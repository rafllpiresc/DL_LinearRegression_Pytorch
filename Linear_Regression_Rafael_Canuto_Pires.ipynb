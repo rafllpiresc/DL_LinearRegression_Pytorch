{
  "cells": [
    {
      "cell_type": "markdown",
      "metadata": {
        "id": "piQAR20HGe7x"
      },
      "source": [
        "## Data Points\n",
        "Esta seção provavelmente se refere ao carregamento e à visualização dos dados. Aqui é onde os dados são importados e explorados."
      ]
    },
    {
      "cell_type": "code",
      "execution_count": null,
      "metadata": {
        "id": "mR3yiYJpxsfM"
      },
      "outputs": [],
      "source": [
        "# Importa as bibliotecas necessárias\n",
        "!pip install torchviz\n",
        "from torchviz import make_dot\n",
        "import pandas as pd\n",
        "import numpy as np\n",
        "import matplotlib.pyplot as plt\n",
        "import plotly.graph_objects as go\n",
        "import plotly.express as px\n",
        "from scipy.stats import normaltest\n",
        "import warnings\n",
        "from sklearn.model_selection import train_test_split\n",
        "from sklearn.metrics import *\n",
        "from sklearn.preprocessing import RobustScaler,MinMaxScaler, StandardScaler\n",
        "from sklearn.cluster import KMeans\n",
        "import torch\n",
        "import torch.nn as nn\n",
        "import torch.optim as optim\n",
        "import torch.nn.functional as F\n",
        "from torch.utils.data import DataLoader, TensorDataset\n",
        "from google.colab import drive\n",
        "\n",
        "warnings.filterwarnings('ignore')"
      ]
    },
    {
      "cell_type": "code",
      "execution_count": null,
      "metadata": {
        "id": "M6F08TS65nR_"
      },
      "outputs": [],
      "source": [
        "drive.mount('/content/drive', force_remount=True)\n",
        "\n",
        "%cd /content/drive/MyDrive/DL_02_2024/MEU"
      ]
    },
    {
      "cell_type": "code",
      "execution_count": null,
      "metadata": {
        "id": "ZBlyr3EWybca"
      },
      "outputs": [],
      "source": [
        "df_red = pd.read_csv('winequality-red.csv', sep=';')\n",
        "df_white = pd.read_csv('winequality-white.csv', sep=';')"
      ]
    },
    {
      "cell_type": "code",
      "execution_count": null,
      "metadata": {
        "id": "z5gS4e_6yhJB"
      },
      "outputs": [],
      "source": [
        "df_red.head()"
      ]
    },
    {
      "cell_type": "code",
      "execution_count": null,
      "metadata": {
        "id": "qkVfs6i-yjE0"
      },
      "outputs": [],
      "source": [
        "df_white.head()"
      ]
    },
    {
      "cell_type": "code",
      "execution_count": null,
      "metadata": {
        "id": "MXQNP_Fiykby"
      },
      "outputs": [],
      "source": [
        "df_red['type'] = 'red'\n",
        "df_white['type'] = 'white'"
      ]
    },
    {
      "cell_type": "code",
      "execution_count": null,
      "metadata": {
        "id": "X-e5TyYSywad"
      },
      "outputs": [],
      "source": [
        "df = pd.concat([df_red, df_white])\n",
        "df.head()"
      ]
    },
    {
      "cell_type": "code",
      "execution_count": null,
      "metadata": {
        "id": "jY_fYmw7yzew"
      },
      "outputs": [],
      "source": [
        "df = df.rename(columns={\n",
        "    'fixed acidity': 'acidez fixa',\n",
        "    'volatile acidity': 'acidez volatil',\n",
        "    'citric acid': 'acido citrico',\n",
        "    'residual sugar': 'acucar residual',\n",
        "    'chlorides': 'cloretos',\n",
        "    'free sulfur dioxide': 'dioxido de enxofre livre',\n",
        "    'total sulfur dioxide': 'dioxido de enxofre total',\n",
        "    'density': 'densidade',\n",
        "    'pH': 'pH',\n",
        "    'sulphates': 'sulfatos',\n",
        "    'alcohol': 'alcool',\n",
        "    'quality': 'qualidade',\n",
        "    'type': 'tipo'\n",
        "})\n",
        "\n",
        "df.head()"
      ]
    },
    {
      "cell_type": "code",
      "execution_count": null,
      "metadata": {
        "id": "dBf0HagUzPgP"
      },
      "outputs": [],
      "source": [
        "df.isna().sum()"
      ]
    },
    {
      "cell_type": "code",
      "execution_count": null,
      "metadata": {
        "id": "E-N1RmpAzYCi"
      },
      "outputs": [],
      "source": [
        "df.describe()"
      ]
    },
    {
      "cell_type": "code",
      "execution_count": null,
      "metadata": {
        "id": "E_H3oTkn6NH-"
      },
      "outputs": [],
      "source": [
        "fig = px.box(df.drop(columns=['tipo']), title='Box plot the dataset for visualization')\n",
        "\n",
        "fig.update_layout(\n",
        "    xaxis_tickangle=45,\n",
        "    template='plotly_white'\n",
        ")\n",
        "\n",
        "fig.show()"
      ]
    },
    {
      "cell_type": "markdown",
      "metadata": {
        "id": "FEtVnO8QgVH-"
      },
      "source": [
        "## Pré-processamento\n",
        "\n",
        "- **Tratamento de Dados**: Remoção de valores.\n",
        "\n",
        "- **Normalização/Padronização**: Uso de `RobustScaler` para normalizar as variáveis, tornando o modelo mais robusto a outliers e melhorando a eficiência do treinamento.\n"
      ]
    },
    {
      "cell_type": "code",
      "execution_count": null,
      "metadata": {
        "id": "TeAZnyQJ8DY0"
      },
      "outputs": [],
      "source": [
        "df = df[df['dioxido de enxofre total'] < 400]\n",
        "df = df[df['dioxido de enxofre livre'] < 280]\n",
        "df = df[df['acucar residual'] < 60]"
      ]
    },
    {
      "cell_type": "code",
      "execution_count": null,
      "metadata": {
        "id": "lMERwLMC0IoM"
      },
      "outputs": [],
      "source": [
        "df_dummies = pd.get_dummies(df, columns=['tipo', 'qualidade'])\n",
        "df_dummies.head()"
      ]
    },
    {
      "cell_type": "code",
      "execution_count": null,
      "metadata": {
        "id": "0IhUzs7X0Y1E"
      },
      "outputs": [],
      "source": [
        "df_dummies = df_dummies.replace(True, 1)\n",
        "df_dummies = df_dummies.replace(False, 0)\n",
        "df_dummies.head()"
      ]
    },
    {
      "cell_type": "code",
      "execution_count": null,
      "metadata": {
        "id": "gbSvm3a8ByZd"
      },
      "outputs": [],
      "source": [
        "caracteristicas = df_dummies\n",
        "\n",
        "# Normalizando as características\n",
        "scaler_minmax = MinMaxScaler()\n",
        "caracteristicas_normalizadas = scaler_minmax.fit_transform(caracteristicas)\n",
        "\n",
        "# Convertendo de volta para DataFrame\n",
        "df_normalizado = pd.DataFrame(caracteristicas_normalizadas, columns=caracteristicas.columns)\n",
        "\n",
        "# Calculando a nota como a média das características normalizadas\n",
        "df_normalizado['nota'] = df_normalizado.mean(axis=1)\n",
        "\n",
        "# Reescalonando a nota para o intervalo de 0 a 5\n",
        "df_normalizado['nota_escala_0_5'] = df_normalizado['nota'] * 10\n",
        "\n",
        "# Mostrando as notas finais\n",
        "print(df_normalizado[['nota_escala_0_5']])"
      ]
    },
    {
      "cell_type": "code",
      "execution_count": null,
      "metadata": {
        "id": "V9SUYuhKCKdO"
      },
      "outputs": [],
      "source": [
        "df_normalizado = pd.to_numeric(df_normalizado['nota_escala_0_5'], errors='coerce')\n",
        "df_dummies['nota'] = df_normalizado\n",
        "df_dummies.head()"
      ]
    },
    {
      "cell_type": "code",
      "execution_count": null,
      "metadata": {
        "id": "bCUFCBI_6nwn"
      },
      "outputs": [],
      "source": [
        "# Assuming df_dummies is already defined and preprocessed\n",
        "for col in df_dummies.columns:\n",
        "    if df_dummies[col].dtype == 'object':\n",
        "        try:\n",
        "            df_dummies[col] = pd.to_numeric(df_dummies[col], errors='coerce')\n",
        "        except:\n",
        "            pass\n",
        "\n",
        "correlation_matrix = np.corrcoef(df_dummies.T)\n",
        "\n",
        "fig = go.Figure(data=go.Heatmap(\n",
        "    z=correlation_matrix,\n",
        "    x=df_dummies.columns,\n",
        "    y=df_dummies.columns,\n",
        "    colorscale='hot',  # Use the named colorscale directly\n",
        "    zmin=-1,\n",
        "    zmax=1\n",
        "))\n",
        "\n",
        "fig.update_layout(\n",
        "    title='Mapa de correlação',\n",
        "    xaxis_nticks=36,\n",
        "    yaxis_nticks=36,\n",
        "    xaxis=dict(tickangle=90)\n",
        ")\n",
        "\n",
        "fig.show()"
      ]
    },
    {
      "cell_type": "code",
      "execution_count": null,
      "metadata": {
        "id": "9EBvUojozYAC"
      },
      "outputs": [],
      "source": [
        "print(\"Num de linhas: \", df_dummies.shape[0])\n",
        "print(\"Num de colunas: \", df_dummies.shape[1])"
      ]
    },
    {
      "cell_type": "code",
      "execution_count": null,
      "metadata": {
        "id": "N0T-Rnh4zX9K"
      },
      "outputs": [],
      "source": [
        "scaler = StandardScaler()\n",
        "\n",
        "df_scaled = scaler.fit_transform(df_dummies.drop(columns=['nota']))#,'tipo_red','tipo_white'\n",
        "df_scaled = pd.DataFrame(df_scaled, columns=df_dummies.drop(columns=['nota']).columns)\n",
        "df_scaled.head()"
      ]
    },
    {
      "cell_type": "code",
      "execution_count": null,
      "metadata": {
        "id": "SphPuvt74apu"
      },
      "outputs": [],
      "source": [
        "df_dummies = df_dummies.reset_index(drop=True)\n",
        "df_scaled['nota'] = df_dummies['nota']\n",
        "\n",
        "df_scaled.head()"
      ]
    },
    {
      "cell_type": "code",
      "execution_count": null,
      "metadata": {
        "id": "Xmw7yvzXzX6K"
      },
      "outputs": [],
      "source": [
        "inertia = []\n",
        "\n",
        "for k in range(1, 7):\n",
        "    kmeans = KMeans(n_clusters=k, random_state=42)\n",
        "    kmeans.fit(df_scaled)\n",
        "    inertia.append(kmeans.inertia_)\n",
        "\n",
        "df_inertia = pd.DataFrame({'Número de Clusters (k)': range(1, 7), 'Inércia': inertia})\n",
        "\n",
        "fig = px.line(df_inertia, x='Número de Clusters (k)', y='Inércia', markers=True, title='Determinação do Número de Clusters')\n",
        "fig.update_layout(xaxis_title='Número de Clusters (k)', yaxis_title='Inércia', template='plotly_white')\n",
        "fig.show()"
      ]
    },
    {
      "cell_type": "code",
      "execution_count": null,
      "metadata": {
        "id": "g8oUMLVdzX3E"
      },
      "outputs": [],
      "source": [
        "kmeans_best = KMeans(n_clusters=3, random_state=42)\n",
        "clusters = kmeans_best.fit_predict(df_scaled)\n",
        "df_cluster = df_scaled.copy()\n",
        "df_cluster['cluster'] = np.array(clusters, dtype='float64')\n",
        "\n",
        "print(df_cluster['cluster'].value_counts())"
      ]
    },
    {
      "cell_type": "code",
      "execution_count": null,
      "metadata": {
        "id": "HhuYyc4c6IS-"
      },
      "outputs": [],
      "source": [
        "df_cluster.head()"
      ]
    },
    {
      "cell_type": "code",
      "execution_count": null,
      "metadata": {
        "id": "1nbE0Cz2zXwk"
      },
      "outputs": [],
      "source": [
        "df_cluster = pd.get_dummies(df_cluster, columns=['cluster'])\n",
        "df_cluster['cluster_0.0'] = df_cluster['cluster_0.0'].astype('int')\n",
        "df_cluster['cluster_1.0'] = df_cluster['cluster_1.0'].astype('int')\n",
        "df_cluster['cluster_2.0'] = df_cluster['cluster_2.0'].astype('int')\n",
        "df_cluster.head()"
      ]
    },
    {
      "cell_type": "code",
      "execution_count": null,
      "metadata": {
        "id": "xxIYQ-tvzXta"
      },
      "outputs": [],
      "source": [
        "df_cluster['cluster_0.0'] = scaler.fit_transform(df_cluster['cluster_0.0'].values.reshape(-1, 1))\n",
        "df_cluster['cluster_1.0'] = scaler.fit_transform(df_cluster['cluster_1.0'].values.reshape(-1, 1))\n",
        "df_cluster['cluster_2.0'] = scaler.fit_transform(df_cluster['cluster_2.0'].values.reshape(-1, 1))\n",
        "\n",
        "X = df_cluster.drop(columns=['nota'])\n",
        "y = df_cluster['nota'].astype('float64')\n",
        "\n",
        "X_train, X_test, y_train, y_test = train_test_split(X, y, test_size=0.2, random_state=42)"
      ]
    },
    {
      "cell_type": "markdown",
      "metadata": {
        "id": "8TfQlV9Tg61I"
      },
      "source": [
        "## Treino Raw\n",
        "\n",
        "- **Divisão de Dados**: Separação dos dados em conjuntos de treinamento e teste usando `train_test_split` do `scikit-learn`.\n",
        "\n",
        "- **Definição do Modelo**: Criação de um modelo inicial, como regressão linear ou rede neural básica."
      ]
    },
    {
      "cell_type": "code",
      "execution_count": null,
      "metadata": {
        "id": "DpINxrEMOemG"
      },
      "outputs": [],
      "source": [
        "# Converter para tensores do PyTorch\n",
        "X_train_tensor = torch.tensor(X_train.values, dtype=torch.float32)\n",
        "y_train_tensor = torch.tensor(y_train.values, dtype=torch.float32).view(-1, 1)\n",
        "X_test_tensor = torch.tensor(X_test.values, dtype=torch.float32)\n",
        "y_test_tensor = torch.tensor(y_test.values, dtype=torch.float32).view(-1, 1)\n",
        "\n",
        "# Criar DataLoader\n",
        "train_dataset = TensorDataset(X_train_tensor, y_train_tensor)\n",
        "test_dataset = TensorDataset(X_test_tensor, y_test_tensor)\n",
        "train_loader = DataLoader(dataset=train_dataset, batch_size=32, shuffle=True)\n",
        "test_loader = DataLoader(dataset=test_dataset, batch_size=32, shuffle=False)"
      ]
    },
    {
      "cell_type": "code",
      "execution_count": null,
      "metadata": {
        "id": "fvY6GgfwI-Np"
      },
      "outputs": [],
      "source": [
        "class RegressaoLinear(nn.Module):\n",
        "    def __init__(self, input_dim):\n",
        "        super(RegressaoLinear, self).__init__()\n",
        "        self.linear = nn.Linear(input_dim, 1)\n",
        "\n",
        "    def forward(self, x):\n",
        "        return self.linear(x)\n",
        "\n",
        "def train_model(model, train_loader, criterion, optimizer, num_epochs, augmentation_fn=None):\n",
        "    for epoch in range(num_epochs):\n",
        "        model.train()\n",
        "        for inputs, targets in train_loader:\n",
        "            outputs = model(inputs)\n",
        "            loss = criterion(outputs, targets)\n",
        "            optimizer.zero_grad()\n",
        "            loss.backward()\n",
        "            optimizer.step()\n",
        "        if (epoch+1) % 100 == 0:\n",
        "            print(f'Epoch [{epoch+1}/{num_epochs}], Loss: {loss.item():.4f}')\n",
        "\n",
        "def evaluate_model(model, X_test_tensor, y_test_tensor):\n",
        "    model.eval()\n",
        "    with torch.no_grad():\n",
        "        outputs = model(X_test_tensor)\n",
        "        mse = mean_squared_error(y_test_tensor.numpy(), outputs.numpy())\n",
        "        r2 = r2_score(y_test_tensor.numpy(), outputs.numpy())\n",
        "    return mse, r2\n",
        "\n",
        "def manual_hyperparameter_search(X_train_tensor, y_train_tensor, X_test_tensor, y_test_tensor):\n",
        "    best_mse = float('inf')\n",
        "    best_r2 = float('-inf')\n",
        "    best_params = None\n",
        "    best_model = None\n",
        "\n",
        "    learning_rates = [1e-3]\n",
        "    num_epochs_list = [700]\n",
        "\n",
        "    for lr in learning_rates:\n",
        "        for num_epochs in num_epochs_list:\n",
        "            print(f'Testando lr={lr}, num_epochs={num_epochs}')\n",
        "            model = RegressaoLinear(X_train_tensor.shape[1])\n",
        "            criterion = nn.MSELoss()\n",
        "            optimizer = optim.SGD(model.parameters(), lr=lr)\n",
        "\n",
        "            train_dataset = TensorDataset(X_train_tensor, y_train_tensor)\n",
        "            train_loader = DataLoader(dataset=train_dataset, batch_size=32, shuffle=True)\n",
        "\n",
        "            train_model(model, train_loader, criterion, optimizer, num_epochs)\n",
        "\n",
        "            mse, r2 = evaluate_model(model, X_test_tensor, y_test_tensor)\n",
        "            print(f'MSE: {mse:.4f}, R²: {r2:.4f}')\n",
        "\n",
        "            if mse > best_mse or r2 > best_r2:\n",
        "                best_mse = mse\n",
        "                best_r2 = r2\n",
        "                best_params = (lr, num_epochs)\n",
        "                best_model = model\n",
        "\n",
        "    return best_model, best_params, best_mse, best_r2\n",
        "\n",
        "best_model, best_params, best_mse, best_r2 = manual_hyperparameter_search(X_train_tensor, y_train_tensor, X_test_tensor, y_test_tensor)\n",
        "\n",
        "print(f'Melhores hiperparâmetros: lr={best_params[0]}, num_epochs={best_params[1]}')\n",
        "print(f'Melhor MSE: {best_mse:.4f}')\n",
        "print(f'Melhor R²: {best_r2:.4f}')"
      ]
    },
    {
      "cell_type": "markdown",
      "metadata": {
        "id": "UWx49l1whA2g"
      },
      "source": [
        "## Treino com Augmentation\n",
        "\n",
        "- **Repetição do Treinamento com Dados Aumentados**: Treinamento do modelo usando o conjunto de dados aumentado para melhorar a capacidade de generalização.\n",
        "  "
      ]
    },
    {
      "cell_type": "code",
      "execution_count": null,
      "metadata": {
        "id": "hDMQ407GBJGt"
      },
      "outputs": [],
      "source": [
        "def add_gaussian_noise(tensor, mean=0.0, std=0.01):\n",
        "    noise = torch.randn(tensor.size()) * std + mean\n",
        "    return tensor + noise\n",
        "\n",
        "class RegressaoLinear(nn.Module):\n",
        "    def __init__(self, input_dim):\n",
        "        super(RegressaoLinear, self).__init__()\n",
        "        self.linear = nn.Linear(input_dim, 1)\n",
        "\n",
        "    def forward(self, x):\n",
        "        return self.linear(x)\n",
        "\n",
        "def train_model(model, train_loader, criterion, optimizer, num_epochs, augmentation_fn=None):\n",
        "    for epoch in range(num_epochs):\n",
        "        model.train()\n",
        "        for inputs, targets in train_loader:\n",
        "            if augmentation_fn:\n",
        "                inputs = augmentation_fn(inputs)\n",
        "            outputs = model(inputs)\n",
        "            loss = criterion(outputs, targets)\n",
        "            optimizer.zero_grad()\n",
        "            loss.backward()\n",
        "            optimizer.step()\n",
        "        if (epoch+1) % 100 == 0:\n",
        "            print(f'Epoch [{epoch+1}/{num_epochs}], Loss: {loss.item():.4f}')\n",
        "\n",
        "def evaluate_model(model, X_test_tensor, y_test_tensor):\n",
        "    model.eval()\n",
        "    with torch.no_grad():\n",
        "        outputs = model(X_test_tensor)\n",
        "        mse = mean_squared_error(y_test_tensor.numpy(), outputs.numpy())\n",
        "        r2 = r2_score(y_test_tensor.numpy(), outputs.numpy())\n",
        "    return mse, r2\n",
        "\n",
        "def manual_hyperparameter_search(X_train_tensor, y_train_tensor, X_test_tensor, y_test_tensor):\n",
        "    best_mse = float('inf')\n",
        "    best_r2 = float('-inf')\n",
        "    best_params = None\n",
        "    best_model = None\n",
        "\n",
        "    learning_rates = [1e-3]\n",
        "    num_epochs_list = [700]\n",
        "\n",
        "    for lr in learning_rates:\n",
        "        for num_epochs in num_epochs_list:\n",
        "            print(f'Testando lr={lr}, num_epochs={num_epochs}')\n",
        "            model = RegressaoLinear(X_train_tensor.shape[1])\n",
        "            criterion = nn.MSELoss()\n",
        "            optimizer = optim.SGD(model.parameters(), lr=lr)\n",
        "\n",
        "            train_dataset = TensorDataset(X_train_tensor, y_train_tensor)\n",
        "            train_loader = DataLoader(dataset=train_dataset, batch_size=32, shuffle=True)\n",
        "\n",
        "            train_model(model, train_loader, criterion, optimizer, num_epochs, augmentation_fn=add_gaussian_noise)\n",
        "\n",
        "            mse, r2 = evaluate_model(model, X_test_tensor, y_test_tensor)\n",
        "            print(f'MSE: {mse:.4f}, R²: {r2:.4f}')\n",
        "\n",
        "            if mse > best_mse or r2 > best_r2:\n",
        "                best_mse = mse\n",
        "                best_r2 = r2\n",
        "                best_params = (lr, num_epochs)\n",
        "                best_model = model\n",
        "\n",
        "    return best_model, best_params, best_mse, best_r2\n",
        "\n",
        "best_model, best_params, best_mse, best_r2 = manual_hyperparameter_search(X_train_tensor, y_train_tensor, X_test_tensor, y_test_tensor)\n",
        "\n",
        "print(f'Melhores hiperparâmetros: lr={best_params[0]}, num_epochs={best_params[1]}')\n",
        "print(f'Melhor MSE: {best_mse:.4f}')\n",
        "print(f'Melhor R²: {best_r2:.4f}')"
      ]
    },
    {
      "cell_type": "markdown",
      "metadata": {
        "id": "nwEZ6vF8habj"
      },
      "source": [
        "## Fine Tuning\n",
        "\n",
        "- **Ajuste Fino do Modelo Pré-treinado**: Ajuste de um modelo que já foi treinado em outro conjunto de dados, aplicando o conhecimento aprendido para ajustar melhor o modelo para o conjunto de dados atual.\n",
        "\n",
        "- **Congelamento e Descongelamento de Camadas**: Congelar camadas iniciais de uma rede neural para preservar características gerais enquanto se ajusta as camadas superiores para tarefas específicas.\n"
      ]
    },
    {
      "cell_type": "code",
      "execution_count": null,
      "metadata": {
        "id": "YAcFxMPBJgES"
      },
      "outputs": [],
      "source": [
        "'''def add_gaussian_noise(tensor, mean=0.0, std=0.01):\n",
        "    noise = torch.randn(tensor.size()) * std + mean\n",
        "    return tensor + noise\n",
        "\n",
        "class RegressaoLinear(nn.Module):\n",
        "    def __init__(self, input_dim):\n",
        "        super(RegressaoLinear, self).__init__()\n",
        "        self.linear = nn.Linear(input_dim, 1)\n",
        "        self.dropout = nn.Dropout(p=0.2)  # Adding dropout\n",
        "\n",
        "    def forward(self, x):\n",
        "        x = self.dropout(x)\n",
        "        return self.linear(x)\n",
        "\n",
        "def train_model(model, train_loader, criterion, optimizer, num_epochs, augmentation_fn=None):\n",
        "    for epoch in range(num_epochs):\n",
        "        model.train()\n",
        "        for inputs, targets in train_loader:\n",
        "            if augmentation_fn:\n",
        "                inputs = augmentation_fn(inputs)\n",
        "            outputs = model(inputs)\n",
        "            loss = criterion(outputs, targets)\n",
        "            optimizer.zero_grad()\n",
        "            loss.backward()\n",
        "            optimizer.step()\n",
        "        if (epoch+1) % 100 == 0:\n",
        "            print(f'Epoch [{epoch+1}/{num_epochs}], Loss: {loss.item():.4f}')\n",
        "\n",
        "def evaluate_model(model, X_test_tensor, y_test_tensor):\n",
        "    model.eval()\n",
        "    with torch.no_grad():\n",
        "        outputs = model(X_test_tensor)\n",
        "        mse = mean_squared_error(y_test_tensor.numpy(), outputs.numpy())\n",
        "        r2 = r2_score(y_test_tensor.numpy(), outputs.numpy())\n",
        "    return mse, r2\n",
        "\n",
        "def manual_hyperparameter_search(X_train_tensor, y_train_tensor, X_test_tensor, y_test_tensor):\n",
        "    best_mse = float('inf')\n",
        "    best_r2 = float('-inf')\n",
        "    best_params = None\n",
        "    best_model = None\n",
        "\n",
        "    learning_rates = [1e-3]\n",
        "    num_epochs_list = [700]\n",
        "    batch_sizes = [16, 32, 64]\n",
        "    optimizers = [optim.SGD, optim.Adam]\n",
        "\n",
        "    for lr in learning_rates:\n",
        "        for num_epochs in num_epochs_list:\n",
        "            for batch_size in batch_sizes:\n",
        "                for opt in optimizers:\n",
        "                    print(f'Testando lr={lr}, num_epochs={num_epochs}, batch_size={batch_size}, optimizer={opt.__name__}')\n",
        "                    model = RegressaoLinear(X_train_tensor.shape[1])\n",
        "                    criterion = nn.MSELoss()\n",
        "                    optimizer = opt(model.parameters(), lr=lr)\n",
        "\n",
        "                    train_dataset = TensorDataset(X_train_tensor, y_train_tensor)\n",
        "                    train_loader = DataLoader(dataset=train_dataset, batch_size=batch_size, shuffle=True)\n",
        "\n",
        "                    train_model(model, train_loader, criterion, optimizer, num_epochs, augmentation_fn=add_gaussian_noise)\n",
        "\n",
        "                    mse, r2 = evaluate_model(model, X_test_tensor, y_test_tensor)\n",
        "                    print(f'MSE: {mse:.4f}, R²: {r2:.4f}')\n",
        "\n",
        "                    if mse < best_mse or r2 > best_r2:\n",
        "                        best_mse = mse\n",
        "                        best_r2 = r2\n",
        "                        best_params = (lr, num_epochs, batch_size, opt.__name__)\n",
        "                        best_model = model\n",
        "\n",
        "    return best_model, best_params, best_mse, best_r2\n",
        "\n",
        "# Assuming X_train_tensor, y_train_tensor, X_test_tensor, y_test_tensor are defined\n",
        "best_model, best_params, best_mse, best_r2 = manual_hyperparameter_search(X_train_tensor, y_train_tensor, X_test_tensor, y_test_tensor)\n",
        "\n",
        "print(f'Melhores hiperparâmetros: lr={best_params[0]}, num_epochs={best_params[1]}, batch_size={best_params[2]}, optimizer={best_params[3]}')\n",
        "print(f'Melhor MSE: {best_mse:.4f}')\n",
        "print(f'Melhor R²: {best_r2:.4f}')'''"
      ]
    },
    {
      "cell_type": "markdown",
      "metadata": {
        "id": "qArGdcZepFdL"
      },
      "source": [
        "## Model Refactory\n",
        "\n",
        "- **Otimização da Arquitetura do Modelo**: Refinamento da arquitetura do modelo, como adicionar/remover camadas, mudar funções de ativação ou ajustar a taxa de dropout.\n",
        "\n",
        "- **Melhoria da Eficiência Computacional**: Implementação de técnicas de otimização para reduzir o tempo de treinamento e o uso de memória.\n",
        "\n",
        "- **Refatoração do Código**: Simplificação e modularização do código para torná-lo mais limpo, eficiente e fácil de manter."
      ]
    },
    {
      "cell_type": "code",
      "execution_count": null,
      "metadata": {
        "id": "q5YHQbrzpdil"
      },
      "outputs": [],
      "source": [
        "# Definindo a nova arquitetura de rede neural\n",
        "class WineQualityModel(nn.Module):\n",
        "    def __init__(self, input_size, hidden_size, output_size, dropout_rate):\n",
        "        super(WineQualityModel, self).__init__()\n",
        "\n",
        "        # Camada de entrada\n",
        "        self.fc1 = nn.Linear(input_size, int(hidden_size))\n",
        "\n",
        "        # Adicionando uma camada escondida com uma função de ativação ReLU\n",
        "        self.fc2 = nn.Linear(int(hidden_size), int(hidden_size))\n",
        "\n",
        "        # Camada de entrada\n",
        "        self.fc3 = nn.Linear(int(hidden_size), int(hidden_size))\n",
        "\n",
        "        # Adicionando uma camada escondida com uma função de ativação ReLU\n",
        "        self.fc4 = nn.Linear(int(hidden_size), int(hidden_size))\n",
        "\n",
        "        # Camada de entrada\n",
        "        self.fc5 = nn.Linear(int(hidden_size), hidden_size)\n",
        "\n",
        "        # Adicionando uma camada escondida com uma função de ativação ReLU\n",
        "        self.fc6 = nn.Linear(hidden_size, hidden_size)\n",
        "\n",
        "        # Camada de entrada\n",
        "        self.fc7 = nn.Linear(hidden_size, hidden_size)\n",
        "\n",
        "        # Adicionando uma camada escondida com uma função de ativação ReLU\n",
        "        self.fc8 = nn.Linear(int(hidden_size), int(hidden_size/1.5))\n",
        "\n",
        "        # Camada de entrada\n",
        "        self.fc9 = nn.Linear(int(hidden_size/1.5), int(hidden_size/2))\n",
        "\n",
        "        # Adicionando uma camada escondida com uma função de ativação ReLU\n",
        "        self.fc10 = nn.Linear(int(hidden_size/2), int(hidden_size/3))\n",
        "\n",
        "        # Camada de saída\n",
        "        self.fc11 = nn.Linear(int(hidden_size/3), output_size)\n",
        "\n",
        "        # Dropout para regularização\n",
        "        self.dropout = nn.Dropout(dropout_rate)\n",
        "\n",
        "    def forward(self, x):\n",
        "        # Forward pass com dropout\n",
        "        x = F.relu(self.fc1(x))\n",
        "        x = self.dropout(x)\n",
        "        x = F.relu(self.fc2(x))\n",
        "        x = self.dropout(x)\n",
        "        x = F.relu(self.fc3(x))\n",
        "        x = self.dropout(x)\n",
        "        x = F.relu(self.fc4(x))\n",
        "        x = self.dropout(x)\n",
        "        x = F.relu(self.fc5(x))\n",
        "        x = self.dropout(x)\n",
        "        x = F.relu(self.fc6(x))\n",
        "        x = self.dropout(x)\n",
        "        x = F.relu(self.fc7(x))\n",
        "        x = self.dropout(x)\n",
        "        x = F.relu(self.fc8(x))\n",
        "        x = self.dropout(x)\n",
        "        x = F.relu(self.fc9(x))\n",
        "        x = self.dropout(x)\n",
        "        x = F.relu(self.fc10(x))\n",
        "        x = self.dropout(x)\n",
        "        x = self.fc11(x)\n",
        "        return x\n",
        "\n",
        "# Parâmetros do modelo\n",
        "input_size = X_train.shape[1]  # Exemplo de número de características\n",
        "hidden_size = 69\n",
        "output_size = 1\n",
        "dropout_rate = 0.5\n",
        "num_epochs = 2000\n",
        "\n",
        "# Instanciando o modelo\n",
        "model = WineQualityModel(input_size, hidden_size, output_size, dropout_rate)\n",
        "print(model)"
      ]
    },
    {
      "cell_type": "code",
      "execution_count": null,
      "metadata": {
        "id": "LYwgxw-saGRl"
      },
      "outputs": [],
      "source": [
        "# Supondo que 'model' seja o seu modelo definido\n",
        "x = torch.zeros(1, X_train.shape[1])  # Crie um tensor de entrada de exemplo\n",
        "y = model(x)\n",
        "\n",
        "# Gere o gráfico da rede neural\n",
        "dot = make_dot(y, params=dict(model.named_parameters()))\n",
        "dot.render(\"wine_quality_model\", format=\"png\")  # Salve o gráfico como um arquivo PNG"
      ]
    },
    {
      "cell_type": "code",
      "execution_count": null,
      "metadata": {
        "colab": {
          "background_save": true,
          "base_uri": "https://localhost:8080/"
        },
        "id": "9TaetRElqZ8k",
        "outputId": "aa534b14-7846-4a5c-ab05-ecc73156c644"
      },
      "outputs": [
        {
          "name": "stdout",
          "output_type": "stream",
          "text": [
            "Epoch [100/2000], Loss: 0.0428\n",
            "Epoch [200/2000], Loss: 0.0434\n",
            "Epoch [300/2000], Loss: 0.0274\n",
            "Epoch [400/2000], Loss: 0.0576\n",
            "Epoch [500/2000], Loss: 0.0258\n",
            "Epoch [600/2000], Loss: 0.0233\n",
            "Epoch [700/2000], Loss: 0.0295\n",
            "Epoch [800/2000], Loss: 0.0766\n",
            "Epoch [900/2000], Loss: 0.0081\n",
            "Epoch [1000/2000], Loss: 0.0637\n",
            "Epoch [1100/2000], Loss: 0.0491\n",
            "Epoch [1200/2000], Loss: 0.0381\n",
            "Epoch [1300/2000], Loss: 0.0660\n",
            "Epoch [1400/2000], Loss: 0.0261\n",
            "Epoch [1500/2000], Loss: 0.0337\n",
            "Epoch [1600/2000], Loss: 0.0147\n",
            "Epoch [1700/2000], Loss: 0.0681\n",
            "Epoch [1800/2000], Loss: 0.0511\n",
            "Epoch [1900/2000], Loss: 0.0177\n",
            "Epoch [2000/2000], Loss: 0.0761\n"
          ]
        }
      ],
      "source": [
        "# Definindo otimizador\n",
        "optimizer = torch.optim.SGD(model.parameters(), lr=0.001)\n",
        "criterion = nn.MSELoss()\n",
        "\n",
        "# Utilizando GPU se disponível\n",
        "device = torch.device(\"cuda\" if torch.cuda.is_available() else \"cpu\")\n",
        "model.to(device)\n",
        "\n",
        "# Exemplo de loop de treinamento otimizado\n",
        "for epoch in range(num_epochs):\n",
        "    model.train()  # Modo de treino\n",
        "    for X_batch, y_batch in train_loader:\n",
        "        X_batch, y_batch = X_batch.to(device), y_batch.to(device)\n",
        "\n",
        "        # Forward pass\n",
        "        outputs = model(X_batch)\n",
        "\n",
        "        # Cálculo da perda\n",
        "        loss = criterion(outputs, y_batch)\n",
        "\n",
        "        # Backward pass e otimização\n",
        "        optimizer.zero_grad()\n",
        "        loss.backward()\n",
        "        optimizer.step()\n",
        "\n",
        "    if (epoch+1) % 100 == 0:\n",
        "        print(f'Epoch [{epoch+1}/{num_epochs}], Loss: {loss.item():.4f}')"
      ]
    },
    {
      "cell_type": "code",
      "execution_count": null,
      "metadata": {
        "colab": {
          "background_save": true
        },
        "id": "nt7GievvqdXc"
      },
      "outputs": [],
      "source": [
        "# Função para treinamento\n",
        "def train_model(model, train_loader, criterion, optimizer, num_epochs, device):\n",
        "    model.to(device)\n",
        "    model.train()\n",
        "\n",
        "    for epoch in range(num_epochs):\n",
        "        total_loss = 0\n",
        "        for X_batch, y_batch in train_loader:\n",
        "            X_batch, y_batch = X_batch.to(device), y_batch.to(device)\n",
        "\n",
        "            # Forward pass\n",
        "            outputs = model(X_batch)\n",
        "            loss = criterion(outputs, y_batch)\n",
        "\n",
        "            # Backward pass\n",
        "            optimizer.zero_grad()\n",
        "            loss.backward()\n",
        "            optimizer.step()\n",
        "\n",
        "            total_loss += loss.item()\n",
        "\n",
        "        if (epoch+1) % 100 == 0:\n",
        "          print(f'Epoch [{epoch+1}/{num_epochs}], Loss: {total_loss/len(train_loader):.4f}')\n",
        "\n",
        "def evaluate_model(model, test_loader, criterion, device):\n",
        "    model.to(device)\n",
        "    model.eval()\n",
        "\n",
        "    total_loss = 0\n",
        "    with torch.no_grad():\n",
        "        for X_batch, y_batch in test_loader:\n",
        "            X_batch, y_batch = X_batch.to(device), y_batch.to(device)\n",
        "            outputs = model(X_batch)\n",
        "            loss = criterion(outputs, y_batch)\n",
        "\n",
        "            # Move tensors to CPU before converting to NumPy arrays\n",
        "            r2 = r2_score(y_batch.cpu().numpy(), outputs.cpu().numpy())\n",
        "            mse = mean_squared_error(y_batch.cpu().numpy(), outputs.cpu().numpy())\n",
        "            total_loss += loss.item()\n",
        "\n",
        "    if (epoch+1) % 100 == 0:\n",
        "        print(r2)\n",
        "        print(mse)\n",
        "        print(f'Epoch [{epoch+1}/{num_epochs}], Loss: {loss.item():.4f}')"
      ]
    },
    {
      "cell_type": "code",
      "execution_count": null,
      "metadata": {
        "colab": {
          "background_save": true
        },
        "id": "rl4ksl3pkRzr",
        "outputId": "5abba5d6-dd7d-42b0-a67a-408fdbb76e12"
      },
      "outputs": [
        {
          "name": "stdout",
          "output_type": "stream",
          "text": [
            "Epoch [100/2000], Loss: 0.0348\n",
            "Epoch [200/2000], Loss: 0.0349\n",
            "Epoch [300/2000], Loss: 0.0348\n",
            "Epoch [400/2000], Loss: 0.0348\n",
            "Epoch [500/2000], Loss: 0.0348\n",
            "Epoch [600/2000], Loss: 0.0348\n",
            "Epoch [700/2000], Loss: 0.0348\n",
            "Epoch [800/2000], Loss: 0.0349\n",
            "Epoch [900/2000], Loss: 0.0348\n",
            "Epoch [1000/2000], Loss: 0.0348\n",
            "Epoch [1100/2000], Loss: 0.0348\n",
            "Epoch [1200/2000], Loss: 0.0348\n",
            "Epoch [1300/2000], Loss: 0.0348\n",
            "Epoch [1400/2000], Loss: 0.0350\n",
            "Epoch [1500/2000], Loss: 0.0349\n",
            "Epoch [1600/2000], Loss: 0.0347\n",
            "Epoch [1700/2000], Loss: 0.0348\n",
            "Epoch [1800/2000], Loss: 0.0348\n",
            "Epoch [1900/2000], Loss: 0.0349\n",
            "Epoch [2000/2000], Loss: 0.0348\n"
          ]
        }
      ],
      "source": [
        "# Exemplo de uso das funções de treinamento e avaliação\n",
        "train_model(model, train_loader, criterion, optimizer, num_epochs, device)"
      ]
    },
    {
      "cell_type": "code",
      "execution_count": null,
      "metadata": {
        "colab": {
          "background_save": true
        },
        "id": "QGHjaer8zXeK",
        "outputId": "bf7b2e39-12c7-4449-d649-e1d66e36efaa"
      },
      "outputs": [
        {
          "data": {
            "text/html": [
              "<html>\n",
              "<head><meta charset=\"utf-8\" /></head>\n",
              "<body>\n",
              "    <div>            <script src=\"https://cdnjs.cloudflare.com/ajax/libs/mathjax/2.7.5/MathJax.js?config=TeX-AMS-MML_SVG\"></script><script type=\"text/javascript\">if (window.MathJax && window.MathJax.Hub && window.MathJax.Hub.Config) {window.MathJax.Hub.Config({SVG: {font: \"STIX-Web\"}});}</script>                <script type=\"text/javascript\">window.PlotlyConfig = {MathJaxConfig: 'local'};</script>\n",
              "        <script charset=\"utf-8\" src=\"https://cdn.plot.ly/plotly-2.24.1.min.js\"></script>                <div id=\"f1a9f52a-99fa-4ab6-9634-0ce2d48da871\" class=\"plotly-graph-div\" style=\"height:525px; width:100%;\"></div>            <script type=\"text/javascript\">                                    window.PLOTLYENV=window.PLOTLYENV || {};                                    if (document.getElementById(\"f1a9f52a-99fa-4ab6-9634-0ce2d48da871\")) {                    Plotly.newPlot(                        \"f1a9f52a-99fa-4ab6-9634-0ce2d48da871\",                        [{\"marker\":{\"color\":\"#9B9A9C\",\"opacity\":0.6},\"name\":\"Reais\",\"orientation\":\"h\",\"width\":0.5,\"x\":[2.493562421800692,2.4221027025118405,2.1191572517689568,2.2774353978523867,2.371121987899749,2.2157879664836497,1.949212890184041,2.4898172022278953,2.224435575990753,1.9542204059970447,2.291032494992318,2.2551429203070694,1.8723286187031212,2.4373083424068276,2.6174236948972536,2.491843631782594,2.3429485038300837,2.395002068728382,2.202176160167685,2.328461556159313,2.701467720983434,3.0058885722881663,2.325169447729497,2.0826514180472304,2.1323846918662865,2.3334621753986724,2.5783671468666958,2.430126806579763,2.282938694846756,2.3435400673825013,2.3400100547198788,2.308644439450575,2.471947789219339,2.518804803315049,2.2113039073598553],\"y\":[\"1231\",\"578\",\"1164\",\"722\",\"561\",\"629\",\"899\",\"1007\",\"346\",\"828\",\"999\",\"115\",\"756\",\"1114\",\"818\",\"771\",\"538\",\"892\",\"1218\",\"618\",\"875\",\"1194\",\"1052\",\"844\",\"365\",\"44\",\"532\",\"1181\",\"533\",\"1189\",\"1258\",\"820\",\"881\",\"398\",\"101\"],\"type\":\"bar\"},{\"marker\":{\"color\":\"#EE6C4D\"},\"name\":\"Previstos\",\"orientation\":\"h\",\"width\":0.25,\"x\":[2.339038610458374,2.3384037017822266,2.3384461402893066,2.339449167251587,2.3388514518737793,2.3393442630767822,2.3390867710113525,2.338857650756836,2.3364086151123047,2.338155746459961,2.33836030960083,2.337451219558716,2.3389203548431396,2.3382620811462402,2.342036724090576,2.337686777114868,2.339322328567505,2.338137626647949,2.3386483192443848,2.3374013900756836,2.3383755683898926,2.3386285305023193,2.337548017501831,2.3374602794647217,2.340636968612671,2.337583065032959,2.3399789333343506,2.3381948471069336,2.3384339809417725,2.3390510082244873,2.3376970291137695,2.3394277095794678,2.3381128311157227,2.338999032974243,2.3382794857025146],\"y\":[\"1231\",\"578\",\"1164\",\"722\",\"561\",\"629\",\"899\",\"1007\",\"346\",\"828\",\"999\",\"115\",\"756\",\"1114\",\"818\",\"771\",\"538\",\"892\",\"1218\",\"618\",\"875\",\"1194\",\"1052\",\"844\",\"365\",\"44\",\"532\",\"1181\",\"533\",\"1189\",\"1258\",\"820\",\"881\",\"398\",\"101\"],\"type\":\"bar\"}],                        {\"template\":{\"data\":{\"histogram2dcontour\":[{\"type\":\"histogram2dcontour\",\"colorbar\":{\"outlinewidth\":0,\"ticks\":\"\"},\"colorscale\":[[0.0,\"#0d0887\"],[0.1111111111111111,\"#46039f\"],[0.2222222222222222,\"#7201a8\"],[0.3333333333333333,\"#9c179e\"],[0.4444444444444444,\"#bd3786\"],[0.5555555555555556,\"#d8576b\"],[0.6666666666666666,\"#ed7953\"],[0.7777777777777778,\"#fb9f3a\"],[0.8888888888888888,\"#fdca26\"],[1.0,\"#f0f921\"]]}],\"choropleth\":[{\"type\":\"choropleth\",\"colorbar\":{\"outlinewidth\":0,\"ticks\":\"\"}}],\"histogram2d\":[{\"type\":\"histogram2d\",\"colorbar\":{\"outlinewidth\":0,\"ticks\":\"\"},\"colorscale\":[[0.0,\"#0d0887\"],[0.1111111111111111,\"#46039f\"],[0.2222222222222222,\"#7201a8\"],[0.3333333333333333,\"#9c179e\"],[0.4444444444444444,\"#bd3786\"],[0.5555555555555556,\"#d8576b\"],[0.6666666666666666,\"#ed7953\"],[0.7777777777777778,\"#fb9f3a\"],[0.8888888888888888,\"#fdca26\"],[1.0,\"#f0f921\"]]}],\"heatmap\":[{\"type\":\"heatmap\",\"colorbar\":{\"outlinewidth\":0,\"ticks\":\"\"},\"colorscale\":[[0.0,\"#0d0887\"],[0.1111111111111111,\"#46039f\"],[0.2222222222222222,\"#7201a8\"],[0.3333333333333333,\"#9c179e\"],[0.4444444444444444,\"#bd3786\"],[0.5555555555555556,\"#d8576b\"],[0.6666666666666666,\"#ed7953\"],[0.7777777777777778,\"#fb9f3a\"],[0.8888888888888888,\"#fdca26\"],[1.0,\"#f0f921\"]]}],\"heatmapgl\":[{\"type\":\"heatmapgl\",\"colorbar\":{\"outlinewidth\":0,\"ticks\":\"\"},\"colorscale\":[[0.0,\"#0d0887\"],[0.1111111111111111,\"#46039f\"],[0.2222222222222222,\"#7201a8\"],[0.3333333333333333,\"#9c179e\"],[0.4444444444444444,\"#bd3786\"],[0.5555555555555556,\"#d8576b\"],[0.6666666666666666,\"#ed7953\"],[0.7777777777777778,\"#fb9f3a\"],[0.8888888888888888,\"#fdca26\"],[1.0,\"#f0f921\"]]}],\"contourcarpet\":[{\"type\":\"contourcarpet\",\"colorbar\":{\"outlinewidth\":0,\"ticks\":\"\"}}],\"contour\":[{\"type\":\"contour\",\"colorbar\":{\"outlinewidth\":0,\"ticks\":\"\"},\"colorscale\":[[0.0,\"#0d0887\"],[0.1111111111111111,\"#46039f\"],[0.2222222222222222,\"#7201a8\"],[0.3333333333333333,\"#9c179e\"],[0.4444444444444444,\"#bd3786\"],[0.5555555555555556,\"#d8576b\"],[0.6666666666666666,\"#ed7953\"],[0.7777777777777778,\"#fb9f3a\"],[0.8888888888888888,\"#fdca26\"],[1.0,\"#f0f921\"]]}],\"surface\":[{\"type\":\"surface\",\"colorbar\":{\"outlinewidth\":0,\"ticks\":\"\"},\"colorscale\":[[0.0,\"#0d0887\"],[0.1111111111111111,\"#46039f\"],[0.2222222222222222,\"#7201a8\"],[0.3333333333333333,\"#9c179e\"],[0.4444444444444444,\"#bd3786\"],[0.5555555555555556,\"#d8576b\"],[0.6666666666666666,\"#ed7953\"],[0.7777777777777778,\"#fb9f3a\"],[0.8888888888888888,\"#fdca26\"],[1.0,\"#f0f921\"]]}],\"mesh3d\":[{\"type\":\"mesh3d\",\"colorbar\":{\"outlinewidth\":0,\"ticks\":\"\"}}],\"scatter\":[{\"fillpattern\":{\"fillmode\":\"overlay\",\"size\":10,\"solidity\":0.2},\"type\":\"scatter\"}],\"parcoords\":[{\"type\":\"parcoords\",\"line\":{\"colorbar\":{\"outlinewidth\":0,\"ticks\":\"\"}}}],\"scatterpolargl\":[{\"type\":\"scatterpolargl\",\"marker\":{\"colorbar\":{\"outlinewidth\":0,\"ticks\":\"\"}}}],\"bar\":[{\"error_x\":{\"color\":\"#2a3f5f\"},\"error_y\":{\"color\":\"#2a3f5f\"},\"marker\":{\"line\":{\"color\":\"#E5ECF6\",\"width\":0.5},\"pattern\":{\"fillmode\":\"overlay\",\"size\":10,\"solidity\":0.2}},\"type\":\"bar\"}],\"scattergeo\":[{\"type\":\"scattergeo\",\"marker\":{\"colorbar\":{\"outlinewidth\":0,\"ticks\":\"\"}}}],\"scatterpolar\":[{\"type\":\"scatterpolar\",\"marker\":{\"colorbar\":{\"outlinewidth\":0,\"ticks\":\"\"}}}],\"histogram\":[{\"marker\":{\"pattern\":{\"fillmode\":\"overlay\",\"size\":10,\"solidity\":0.2}},\"type\":\"histogram\"}],\"scattergl\":[{\"type\":\"scattergl\",\"marker\":{\"colorbar\":{\"outlinewidth\":0,\"ticks\":\"\"}}}],\"scatter3d\":[{\"type\":\"scatter3d\",\"line\":{\"colorbar\":{\"outlinewidth\":0,\"ticks\":\"\"}},\"marker\":{\"colorbar\":{\"outlinewidth\":0,\"ticks\":\"\"}}}],\"scattermapbox\":[{\"type\":\"scattermapbox\",\"marker\":{\"colorbar\":{\"outlinewidth\":0,\"ticks\":\"\"}}}],\"scatterternary\":[{\"type\":\"scatterternary\",\"marker\":{\"colorbar\":{\"outlinewidth\":0,\"ticks\":\"\"}}}],\"scattercarpet\":[{\"type\":\"scattercarpet\",\"marker\":{\"colorbar\":{\"outlinewidth\":0,\"ticks\":\"\"}}}],\"carpet\":[{\"aaxis\":{\"endlinecolor\":\"#2a3f5f\",\"gridcolor\":\"white\",\"linecolor\":\"white\",\"minorgridcolor\":\"white\",\"startlinecolor\":\"#2a3f5f\"},\"baxis\":{\"endlinecolor\":\"#2a3f5f\",\"gridcolor\":\"white\",\"linecolor\":\"white\",\"minorgridcolor\":\"white\",\"startlinecolor\":\"#2a3f5f\"},\"type\":\"carpet\"}],\"table\":[{\"cells\":{\"fill\":{\"color\":\"#EBF0F8\"},\"line\":{\"color\":\"white\"}},\"header\":{\"fill\":{\"color\":\"#C8D4E3\"},\"line\":{\"color\":\"white\"}},\"type\":\"table\"}],\"barpolar\":[{\"marker\":{\"line\":{\"color\":\"#E5ECF6\",\"width\":0.5},\"pattern\":{\"fillmode\":\"overlay\",\"size\":10,\"solidity\":0.2}},\"type\":\"barpolar\"}],\"pie\":[{\"automargin\":true,\"type\":\"pie\"}]},\"layout\":{\"autotypenumbers\":\"strict\",\"colorway\":[\"#636efa\",\"#EF553B\",\"#00cc96\",\"#ab63fa\",\"#FFA15A\",\"#19d3f3\",\"#FF6692\",\"#B6E880\",\"#FF97FF\",\"#FECB52\"],\"font\":{\"color\":\"#2a3f5f\"},\"hovermode\":\"closest\",\"hoverlabel\":{\"align\":\"left\"},\"paper_bgcolor\":\"white\",\"plot_bgcolor\":\"#E5ECF6\",\"polar\":{\"bgcolor\":\"#E5ECF6\",\"angularaxis\":{\"gridcolor\":\"white\",\"linecolor\":\"white\",\"ticks\":\"\"},\"radialaxis\":{\"gridcolor\":\"white\",\"linecolor\":\"white\",\"ticks\":\"\"}},\"ternary\":{\"bgcolor\":\"#E5ECF6\",\"aaxis\":{\"gridcolor\":\"white\",\"linecolor\":\"white\",\"ticks\":\"\"},\"baxis\":{\"gridcolor\":\"white\",\"linecolor\":\"white\",\"ticks\":\"\"},\"caxis\":{\"gridcolor\":\"white\",\"linecolor\":\"white\",\"ticks\":\"\"}},\"coloraxis\":{\"colorbar\":{\"outlinewidth\":0,\"ticks\":\"\"}},\"colorscale\":{\"sequential\":[[0.0,\"#0d0887\"],[0.1111111111111111,\"#46039f\"],[0.2222222222222222,\"#7201a8\"],[0.3333333333333333,\"#9c179e\"],[0.4444444444444444,\"#bd3786\"],[0.5555555555555556,\"#d8576b\"],[0.6666666666666666,\"#ed7953\"],[0.7777777777777778,\"#fb9f3a\"],[0.8888888888888888,\"#fdca26\"],[1.0,\"#f0f921\"]],\"sequentialminus\":[[0.0,\"#0d0887\"],[0.1111111111111111,\"#46039f\"],[0.2222222222222222,\"#7201a8\"],[0.3333333333333333,\"#9c179e\"],[0.4444444444444444,\"#bd3786\"],[0.5555555555555556,\"#d8576b\"],[0.6666666666666666,\"#ed7953\"],[0.7777777777777778,\"#fb9f3a\"],[0.8888888888888888,\"#fdca26\"],[1.0,\"#f0f921\"]],\"diverging\":[[0,\"#8e0152\"],[0.1,\"#c51b7d\"],[0.2,\"#de77ae\"],[0.3,\"#f1b6da\"],[0.4,\"#fde0ef\"],[0.5,\"#f7f7f7\"],[0.6,\"#e6f5d0\"],[0.7,\"#b8e186\"],[0.8,\"#7fbc41\"],[0.9,\"#4d9221\"],[1,\"#276419\"]]},\"xaxis\":{\"gridcolor\":\"white\",\"linecolor\":\"white\",\"ticks\":\"\",\"title\":{\"standoff\":15},\"zerolinecolor\":\"white\",\"automargin\":true,\"zerolinewidth\":2},\"yaxis\":{\"gridcolor\":\"white\",\"linecolor\":\"white\",\"ticks\":\"\",\"title\":{\"standoff\":15},\"zerolinecolor\":\"white\",\"automargin\":true,\"zerolinewidth\":2},\"scene\":{\"xaxis\":{\"backgroundcolor\":\"#E5ECF6\",\"gridcolor\":\"white\",\"linecolor\":\"white\",\"showbackground\":true,\"ticks\":\"\",\"zerolinecolor\":\"white\",\"gridwidth\":2},\"yaxis\":{\"backgroundcolor\":\"#E5ECF6\",\"gridcolor\":\"white\",\"linecolor\":\"white\",\"showbackground\":true,\"ticks\":\"\",\"zerolinecolor\":\"white\",\"gridwidth\":2},\"zaxis\":{\"backgroundcolor\":\"#E5ECF6\",\"gridcolor\":\"white\",\"linecolor\":\"white\",\"showbackground\":true,\"ticks\":\"\",\"zerolinecolor\":\"white\",\"gridwidth\":2}},\"shapedefaults\":{\"line\":{\"color\":\"#2a3f5f\"}},\"annotationdefaults\":{\"arrowcolor\":\"#2a3f5f\",\"arrowhead\":0,\"arrowwidth\":1},\"geo\":{\"bgcolor\":\"white\",\"landcolor\":\"#E5ECF6\",\"subunitcolor\":\"white\",\"showland\":true,\"showlakes\":true,\"lakecolor\":\"white\"},\"title\":{\"x\":0.05},\"mapbox\":{\"style\":\"light\"}}},\"title\":{\"font\":{\"size\":20,\"color\":\"black\",\"family\":\"Arial\"},\"text\":\"Amostra de Valores Reais vs. Previstos\"},\"xaxis\":{\"showgrid\":true,\"gridcolor\":\"#9B9A9C\",\"gridwidth\":0.5,\"griddash\":\"dot\"},\"yaxis\":{\"showgrid\":false}},                        {\"responsive\": true}                    ).then(function(){\n",
              "                            \n",
              "var gd = document.getElementById('f1a9f52a-99fa-4ab6-9634-0ce2d48da871');\n",
              "var x = new MutationObserver(function (mutations, observer) {{\n",
              "        var display = window.getComputedStyle(gd).display;\n",
              "        if (!display || display === 'none') {{\n",
              "            console.log([gd, 'removed!']);\n",
              "            Plotly.purge(gd);\n",
              "            observer.disconnect();\n",
              "        }}\n",
              "}});\n",
              "\n",
              "// Listen for the removal of the full notebook cells\n",
              "var notebookContainer = gd.closest('#notebook-container');\n",
              "if (notebookContainer) {{\n",
              "    x.observe(notebookContainer, {childList: true});\n",
              "}}\n",
              "\n",
              "// Listen for the clearing of the current output cell\n",
              "var outputEl = gd.closest('.output');\n",
              "if (outputEl) {{\n",
              "    x.observe(outputEl, {childList: true});\n",
              "}}\n",
              "\n",
              "                        })                };                            </script>        </div>\n",
              "</body>\n",
              "</html>"
            ]
          },
          "metadata": {},
          "output_type": "display_data"
        }
      ],
      "source": [
        "y_pred = model(X_test_tensor).detach().numpy()\n",
        "y_test1 = np.reshape(y_test, (-1,))\n",
        "y_pred = np.reshape(y_pred, (-1,))\n",
        "df_pred = pd.DataFrame({'Actual': y_test1, 'Predicted': y_pred})\n",
        "\n",
        "# Sample data for visualization\n",
        "df_pred_sample = df_pred.sample(35, random_state=42)\n",
        "df_pred_index = df_pred_sample.index.astype(str)\n",
        "\n",
        "# Bar plot for Actual values\n",
        "fig = go.Figure()\n",
        "\n",
        "fig.add_trace(\n",
        "    go.Bar(\n",
        "        y=df_pred_index,\n",
        "        x=df_pred_sample['Actual'],\n",
        "        orientation='h',\n",
        "        marker=dict(color='#9B9A9C', opacity=0.6),\n",
        "        name='Reais',\n",
        "        width=0.5\n",
        "    )\n",
        ")\n",
        "\n",
        "# Bar plot for Predicted values\n",
        "fig.add_trace(\n",
        "    go.Bar(\n",
        "        y=df_pred_index,\n",
        "        x=df_pred_sample['Predicted'],\n",
        "        orientation='h',\n",
        "        marker=dict(color='#EE6C4D'),\n",
        "        name='Previstos',\n",
        "        width=0.25\n",
        "    )\n",
        ")\n",
        "\n",
        "# Update layout to match the styling and appearance of your Matplotlib plot\n",
        "fig.update_layout(\n",
        "    title={\n",
        "        'text': \"Amostra de Valores Reais vs. Previstos\",\n",
        "        'font': {\n",
        "            'size': 20,  # Replace 'weight' with 'size' or another valid property\n",
        "            'color': 'black',\n",
        "            'family': 'Arial'\n",
        "        }\n",
        "    }\n",
        ")\n",
        "\n",
        "# Remove grid lines from y-axis and customize grid for x-axis\n",
        "fig.update_xaxes(showgrid=True, gridcolor='#9B9A9C', gridwidth=0.5, griddash='dot')\n",
        "fig.update_yaxes(showgrid=False)\n",
        "\n",
        "# Show the plot\n",
        "fig.show()"
      ]
    },
    {
      "cell_type": "code",
      "execution_count": null,
      "metadata": {
        "colab": {
          "background_save": true
        },
        "id": "ZuIZX-tezXbS",
        "outputId": "944499f8-0cee-4450-e8d1-3874f9269494"
      },
      "outputs": [
        {
          "data": {
            "text/html": [
              "<html>\n",
              "<head><meta charset=\"utf-8\" /></head>\n",
              "<body>\n",
              "    <div>            <script src=\"https://cdnjs.cloudflare.com/ajax/libs/mathjax/2.7.5/MathJax.js?config=TeX-AMS-MML_SVG\"></script><script type=\"text/javascript\">if (window.MathJax && window.MathJax.Hub && window.MathJax.Hub.Config) {window.MathJax.Hub.Config({SVG: {font: \"STIX-Web\"}});}</script>                <script type=\"text/javascript\">window.PlotlyConfig = {MathJaxConfig: 'local'};</script>\n",
              "        <script charset=\"utf-8\" src=\"https://cdn.plot.ly/plotly-2.24.1.min.js\"></script>                <div id=\"a8958ca7-2fd3-41e7-a7da-85a3a6fa7ab2\" class=\"plotly-graph-div\" style=\"height:525px; width:100%;\"></div>            <script type=\"text/javascript\">                                    window.PLOTLYENV=window.PLOTLYENV || {};                                    if (document.getElementById(\"a8958ca7-2fd3-41e7-a7da-85a3a6fa7ab2\")) {                    Plotly.newPlot(                        \"a8958ca7-2fd3-41e7-a7da-85a3a6fa7ab2\",                        [{\"marker\":{\"color\":\"#EE6C4D\"},\"name\":\"Res\\u00edduos\",\"nbinsx\":50,\"opacity\":0.7,\"x\":[-0.008784577614526334,0.7982039629025377,-0.04246928010471729,0.14902594059826324,0.06976782449682517,0.3006427564841836,0.16048723791721775,0.2258286656541273,-0.11762018618759829,0.036124705662935686,0.012827493848888594,0.02107290580481047,-0.1776683088906177,-0.09163009159498792,-0.02733075599611956,0.20748263671016165,-0.11278446759574035,0.055754959553830474,-0.28039630944056526,0.05061624318767599,0.14608745954345448,0.3567284778022013,-0.033723752013443686,-0.0722582935764402,0.21189012243102834,0.1464507983857568,-0.11900890874931758,-0.05680969850492268,-0.06383038649677308,-0.04186117322172356,0.3758863263159773,-0.07401503179842095,-0.03259470188520286,0.17355526298319868,-0.06679765366866963,0.3173168910140802,-0.30748575538601486,-0.09618966661990802,-0.24894600611042872,0.39481048733759794,0.0697288981853621,-0.0418608358908501,0.08821696591591532,-0.4131717320476167,-0.004120889634286584,-0.028183313563727275,0.0450835874932789,-0.1649515744261434,-0.1216648630998165,0.16855870403463324,0.12266484488860652,-0.08608743550948894,-0.33039894706822537,-0.09425600487468389,0.22451354940836277,-0.07001019513924689,-0.18252380151968506,0.17218168130409284,0.037279568921654516,-0.14755336877826775,-0.058226858539102366,-0.03199444004157659,-0.07663691659068261,-0.04660693163628071,-0.051879223365342675,0.13968357048254587,-0.20015300556706261,-0.04600662149861012,-0.10489445722029345,-0.03677588170281609,-0.08136984910691947,-0.05168308137803024,0.18375610992811708,-0.04451526786714055,-0.11027025045286898,-0.2270178073144713,0.037150475573155095,-0.18332408058697203,-0.09505502949818556,-0.016252725652125655,-0.255241228476049,0.07621231998392286,0.3157218707198908,0.06658876341509279,-0.042089476910407875,-0.13705380238802256,-0.028126331523322,0.10892903881562788,0.20489995757512602,-0.02657775256493844,0.17684828904638827,-0.24946139729232186,-0.05152288310492725,-0.0935925613708779,-0.0505553378392678,0.1327686412419129,-0.07043685330193039,-0.021513197960143504,-0.03870969505046595,0.1207349082106619,-0.44854637325332436,-0.12697557834265938,0.08964869344240434,0.046247941921832236,0.126831946659558,0.4514192541150548,0.2502683313518026,-0.15962020653418874,0.0584597379594034,0.0798096968851989,0.1661183927379346,0.235677368836666,0.0677860752964925,-0.13784988202364268,-0.010094736298755791,-0.0823082992516464,-0.012421373548668235,0.06159420457982279,0.18534775075601218,0.09198687263166061,0.40755848535323835,0.1255359121595312,-0.0176672108924385,0.28014934798996105,-0.20589161361005948,0.36851832081874747,-0.1589649043131982,0.04844963311613126,0.33965941195419536,-0.003931569237629162,-0.33396534166331593,-0.08702256252419494,0.014304645278565786,-0.050647428374590575,-0.07587565507535121,0.0375181276284251,0.08037545636445831,-0.28972319264854285,-0.06118144789824642,0.08609952982322477,0.12161403426412809,-0.20162953826627916,-0.10563500320208785,0.08644553429945034,0.026009732470235747,0.028271068992379966,-0.22986501568206918,-0.07187032679008354,0.33609392288021933,0.0703641117387539,0.02780960389831888,0.1423714940184846,-0.36451821614892,0.10398869672113387,-0.1730337603361254,0.5414464598208157,0.07826236771938522,0.0769948906632214,-0.1038460669697967,0.20134736497857908,0.32863065610370956,-0.3239281373235574,0.10686287111026349,0.1348376191898879,0.05185983663233973,0.20297348158960649,0.1891563256848423,-0.01939681317130315,0.1276508270846768,0.011865555526165306,0.0257037277890646,0.02142044376085428,-0.0876009887355389,0.3202892873100778,0.16418204454836616,0.1851072017049855,-0.183639365723395,0.28987685198199387,0.24942701051237126,-0.19118944523760195,-0.15402083032505098,0.07996371019447768,-0.11288327854653701,-0.1495882082723483,0.2094329075813821,0.1563684453193943,-0.19623078904903135,-0.19363300420858964,-0.05708426264219968,-0.03162512864510969,0.3971612794313799,-0.01673890661038424,-0.20274213893213577,-0.1060122394260734,0.002839106469016528,0.1648444096298931,0.16564800675787783,0.3861208113585768,0.053275958277312796,0.12156064387469412,0.12131364030866587,0.26108022858543656,-0.08288813293327779,-0.12178272967337023,-0.2834761345443999,-0.1071494156211279,0.020833770855162914,-0.0368883061984544,0.16439931230610894,0.2996761875706886,0.1350496670852661,-0.08440567409805899,-0.026119813838988204,-0.15190355137706968,-0.10531233445470889,0.7580747359850775,-0.10691957142915287,-0.24175671414382993,-0.182829092607518,-0.14249929227660285,-0.14481920692684858,-0.1448680214381719,-0.19690945340606447,0.19609915655887544,-0.1864523131266056,0.10464879733815691,-0.15697241330867673,-0.05115472214712913,-0.09053618129042418,-0.025974063680636483,-0.2892394427391096,0.055517615527088005,0.0143203175012947,-0.38443725999030853,-0.34122513355552586,-0.1776791086393641,-0.07755324926282015,-0.129817270806575,0.05274823791332972,0.4385589956111211,0.2530935731654318,0.28452337055362964,-0.03629192698409289,-0.1698946192782409,0.04400291233659104,0.10280421702031539,-0.028299590645866957,0.08962850838151848,0.0020322938114705202,0.07079761650667038,-0.049537059393067295,-0.07260278344398019,-0.06444198054161188,-0.06069397558696332,-0.17109033140329677,0.03084612579339474,-0.31276911981311306,-0.2353281990761369,0.10880100803865034,0.2748339352649136,-0.08961307446138633,-0.030106073674036615,0.14687959290298291,-0.07596995931838091,0.2169090740456543,-0.2434463496120527,0.022874140957227063,0.17039459047452077,0.043647825750984026,0.25336108494704623,-0.15195057810627643,0.17708502746903676,-0.0038067281647964357,0.39481576259287987,-0.013847410964017648,-0.03644030167509493,-0.13145910594957755,-0.157241198819853,-0.07830009373972757,-0.33095696476839853,0.1604212383057857,-0.07269842382824265,-0.17616503816672946,-0.1578570590741757,-0.026926347953525998,-0.33870745906511224,-0.25527023085498124,0.045394303011195625,-0.1651866842888099,-0.015527426090811147,-0.1008576236166503,0.046981641815273534,-0.05509567489850564,0.2014969829896498,0.1997724029008081,-0.07405167953380198,-0.02394966556969269,-0.17391063337142132,0.007884712176634778,0.06290747415934028,-0.29150466888544724,-0.2965234521029565,0.047639888993049606,0.10523075983672925,-0.06468397539939996,-0.15466840086960865,-0.32004827997986407,-0.0572237814150478,-0.22848745752648236,-0.3390112641426746,-0.4025558291576279,0.5568690477847085,0.3013646290538321,0.13942106354320138,0.016676089662468474,0.15123101402476102,0.09766654070663883,0.244053801989506,0.0017695388766441056,-0.07192800856295722,-0.009389884044899155,-0.01094494774310073,-0.08661689857679056,-0.1828891740894516,-0.10798333483630262,-0.21268209242053615,-0.27720454429190955,0.07701205099867225,-0.14630291177736332,-0.2250067275036325,-0.03994542403467083,0.015281955061372088,-0.07634936691043226,-0.06817718268730388,0.26028918552447156,0.015550753298731124,0.22283598295017537,-0.04877318782599671,0.1261494905678795,0.12993250843854254,-0.27428344142704164,-0.1220545061261129,0.28838266035011717,0.14342170860909897,-0.030479702932947994,-0.242231785091795,-0.11197303912155165,-0.032471175558266285,-0.1493893237306514,0.09828235009668074,-0.13771990391334832,0.1384510108150505,0.19629883234152556,0.15409599492077497,-0.19008125653646823,0.14742536569156162,-0.018779776336653953,0.11657201754780333,0.4328896000340201,-0.13900992601465845,-0.02284723738520178,0.26714835836660233,0.07709085566028495,-0.32718082689785,0.09748436311242781,-0.20825227674638436,0.13780956905783537,0.07141136728347686,0.05616784249448159,-0.080933747731041,-0.013077555190252887,0.053453727586683986,-0.15622149769221982,0.19465323201610119,-0.004261540551105725,0.0006265998809338313,-0.2472561320232023,-0.12316820691171726,-0.09153185484626958,-0.4646012881439767,-0.046863426959019794,-0.1963436742609721,-0.030880247519442072,-0.09067129562000664,-0.19740980069085756,-0.08499829977788043,0.09129461952083107,-0.07279869120327076,-0.13735594164885612,0.10405809138038924,0.029687471832136048,-0.2068051823874013,-0.22257663569021524,0.11215812010290449,-0.3530754683792774,-0.2882951394131541,-0.03701161457633528,0.13335012001704216,0.1798057703408058,-0.12785943433125269,-0.1864040282850814,-0.09759308108706088,0.1265351697879522,0.3561410247260195,0.36383318740346127,0.2906365803057098,-0.18601565202606896,-0.08785074969576456,-0.1390505023400146,0.4145442512915638,0.10697665562118708,0.051207822416724724,0.2731809578215669,0.15642995731280251,-0.12594664899649954,0.07501270002842331,0.46503762249638125,-0.053699751294612685,-0.16942445507037496,0.18024085033310122,-0.08718050175798497,-0.10274465764698704,-0.04932287487058362,-0.0037233278526858093,0.06974342382523036,-0.04295633104387786,-0.05040263073605589,0.024105089794622447,-0.19282846121555242,0.3211436112885391,-0.33046949053257846,-0.13924234817155368,-0.1273496627704085,0.24937503526212712,0.26347732944211444,-0.008575350954654226,-0.050076296775944495,0.1480422458890729,-0.14237560934652205,0.35585411619713003,-0.030670141987026334,-0.016381364810801102,-0.1964829107111674,0.14112012301288646,-0.052896875560597856,-0.14998829504213784,-0.0006313262529724639,-0.016893676213615816,-0.3035176652241902,-0.07128932786048292,0.050861264598622835,-0.08425536588435056,-0.3320009012407441,-0.01649061552629938,0.06733127852768517,-0.3181472486318535,-0.10200918580289287,0.05777070351131375,0.16916905559713324,-0.2996641902291701,0.07060038455064355,-0.04946833769293146,-0.0033933000998684903,0.07917133963687961,-0.04128660874369938,0.19757413411572733,-0.19394475614151618,-0.01658911737046509,-0.0589385324616134,0.2354752568915801,-0.2613722674941288,-0.12349330591591423,-0.0023872471223693736,0.07907483129541104,-0.1849878146174544,-0.33452617620079295,-0.0721542830004207,-0.05832797810122248,-0.0041049155894867795,-0.0021155182215499835,-0.12853622319704439,0.42545264867343313,-0.10000696367640716,-0.02817460548539641,0.07479123216484407,0.09943262976690503,-0.030955383340979914,-0.14557888668217434,0.02085098025494103,0.1760729359158355,-0.3388783794814292,0.393174745466915,0.23920312823571432,-0.005111850958003039,0.08896714633691793,0.1365577717561539,0.21264127307189407,-0.031081808018015522,-0.2084873965628189,0.19095815126563753,0.008448894430465703,0.2414894613184635,-0.18441747235939632,0.19538923658353502,0.12423541898725388,0.2046175551606395,0.08323306630743543,0.29264300095557827,-0.020707745207356076,-0.06750268033398044,0.40629824204108855,-0.3431108278156483,0.16573015943259328,0.24026163027546055,-0.10529108959080435,-0.19572480583579654,-0.2239127938394363,0.044245522567952555,-0.003469668428967676,0.3026615673381938,0.12970101216929386,-0.0748980772698169,0.059292810413402286,0.23521673344396454,0.0497799127746541,-0.12296291101561341,0.15152474585417863,0.16661137997239983,-0.18679758619806908,-0.053921218196100185,0.2580274571906651,0.21628654916290646,0.23838821353234518,-0.05549528609501664,-0.25435841859691344,-0.3288169666618437,-0.09975529443913977,-0.05101794830481765,0.0036261752625788013,-0.0028844347329828324,-0.13606604239728304,-0.07585078365893416,0.05118286260313987,-0.19686053644743762,-0.10125681878660364,0.12038753234091093,0.2584186175714436,0.014548773285035566,0.1443239393993072,0.2813294130756785,0.18324231460343654,-0.0854273669602561,0.24245498853634118,-0.046932641214267434,-0.16667920858867546,-0.04202922686214139,0.4026378833577522,-0.10126537996824947,-0.09632043044515104,-0.15219625377507162,0.21650918031276145,0.032270536025969854,0.16923114580017806,-0.14988797892909833,0.042436073075730274,-0.15984641598159088,-0.17791809344351162,-0.04203126210900887,0.27303266146536576,-0.13255745701151245,-0.0340196757736031,0.1931018779109781,-0.07979116353342874,0.05114190226067228,0.0511719862716582,-0.14681450563671383,0.42858365885710015,0.19425843647572982,0.08369900072961389,0.25465733486751585,0.1257084161965416,-0.020991534060711636,0.036928507886830886,0.1789904355326959,0.08949832980818861,-0.07328792109489157,-0.06901325596611496,-0.039841464785405734,-0.08142740494890433,0.5464680861550177,0.2792229622102038,0.05237987967583235,-0.14817033180430217,-0.19704358946781708,-0.020489364011448075,-0.03531820927594431,0.14278600870579483,-0.002896616948366848,0.2915491044732539,0.34871210091460236,-0.09716654815156867,-0.0362630056801434,0.09382605464934768,-0.012023029814886677,-0.04218817605584979,0.3238709601826635,0.22565066671103562,-0.05125225320099247,-0.0024538657699952893,-0.05161729686225147,0.0029492910785551274,-0.07409587007584229,-0.1289142729621382,-0.14769271987309773,0.09784828778239918,-0.03684882371421283,-0.030990010008467905,-0.18289229728119727,-0.008939833916370432,-0.13744162936171378,-0.004337058437966057,-0.13321223038133656,-0.24556864295297487,-0.012678398422074633,-0.10862665548698835,0.15126707524181793,-0.3263495949432307,0.06502182069536566,-0.34302952708017465,-0.1235562965931325,-0.19209882405681888,-0.107836800395535,0.27106146574170875,-0.25088641391196775,0.054980980693953185,-0.06398863429867152,0.21299284426539478,-0.3303109471571739,0.2563452134319659,-0.022917894623004642,-0.006256872870888053,-0.13169992276731612,0.023685039621595738,-0.1575490302520146,-0.006622456547881406,0.17570042510712902,-0.056787018192710814,0.06076426950597025,-0.1295654961232251,-0.1368516316154227,0.25709971365674367,0.2635916191879373,-0.025609389445803377,0.09550677109027639,0.11295153028350313,0.024548115049492836,0.07064564782658378,-0.16764521343906802,0.0619486103353033,0.2537112257761267,-0.10496519550858885,0.33717774843383186,-0.0021588327935333496,0.00929870554381651,-0.0991040010465678,-0.1432344986755032,-0.030884093688381853,0.12226338153467964,-0.20238248718870633,-0.03929177695201069,-0.26548062250196747,0.25851805360388536,0.03734072951515355,-0.22311684167232837,-0.16636632745079982,0.009513253352435136,-0.1318977538545063,0.10862768159682279,-0.04162931465974262,0.204483495592783,-0.055794313178352706,-0.4396689111118883,-0.06622038124131002,0.13171787829309567,-0.15564322973018552,-0.19708317737506809,0.14799933309067548,0.00574027420991019,-0.16403803659844218,0.0035240896048192027,0.15519692715184386,-0.08991363976344857,0.061951219049332096,-0.1687737403145122,0.10909344179714964,-0.08486738620468337,-0.2898021105857893,0.0837730966055883,-0.0023074972105243674,-0.18643029521576215,0.09867282103204644,0.05313245565932423,-0.028634814294639543,0.1122053169721684,-0.1333247266190316,-0.22915482816054178,0.26438606943942755,-0.1037815875817758,-0.0030532500778566174,0.023036867098174874,0.08397290687508585,-0.19658044869977287,0.008966940275862978,-0.05875083880373433,-0.17373052992093463,-0.19936223616517745,-0.07558424391390339,0.29558578479677733,0.3844626773160309,-0.04448480954717171,0.09850944624787505,-0.13762832923224044,-0.062013769399200225,0.17893962258203588,-0.06284115616995578,-0.23237972151095354,-0.17507347356258496,0.2195970826496314,0.04776009311955054,-0.03218730535659464,-0.057424371686427556,0.09302338548388178,0.08196981071309484,-0.0994727221663263,-0.20350043819985553,-0.2978135961730701,0.24789379341328388,0.3681131496050698,-0.3475708163765798,-0.2651155578183735,0.0693608703689863,-0.18199125483260703,-0.2291368448569293,0.24628541283318306,0.33022643264240426,0.0245231079405146,-0.06549287924884828,0.18099433204965942,-0.09025045287791755,0.13565143557891846,-0.004620486427455717,-0.20395143637137725,0.09629791802072285,0.09142572299366325,0.1684359641530251,-0.1452630224224416,-0.4665917361400185,-0.00849847531960446,-0.18301386700632172,-0.2846063956681615,-0.0582855395941424,-0.08958791904954833,0.06821800369096342,-0.030217415150477045,0.1655265603468261,-0.20709155533337675,0.03290798770178682,0.14248306406287714,-0.000978500017814632,-0.09095679862264117,-0.0713679972002863,0.15415685466772588,0.141910294945927,0.011888660824827202,-0.025798101128861273,-0.13506085600020512,0.27381999728191175,0.011340656090661483,0.34617147349545796,0.20685893370723196,-0.16049586779517977,0.22105165830417928,0.0640720366802352,0.12908336421215827,-0.1114031136107454,-0.02745707646069473,-0.22674073416686502,-0.03484899173748035,0.23267540289590594,-0.06277556056820277,-0.02551120003615459,-0.1209484286240432,-0.18263347406607178,0.213750905866668,0.1340344938645659,-0.19449291738777408,0.0731380947818141,-0.037159043168521144,-0.1683613754932196,-0.037330550576214705,-0.016107999846495247,0.10180329381753861,-0.32023564493870404,0.07210457229102829,-0.3181161032910933,0.06266942926178176,-0.298359598985928,-0.03277973780767285,0.10015737393876467,0.011534038957424109,-0.0360092196486308,0.1782295693942384,-0.02251258264727163,-0.1531856262502611,-0.18913084170507233,-0.044719674854913016,-0.17331912829077023,-0.1059204930356441,0.2753869708066774,0.1557951397119779,-0.030783270128892593,0.0010606128100887346,-0.02584989823789474,-0.1233270847622907,-0.10752844861479938,-0.1863353967963377,-0.2341926568890642,-0.2817561894772638,-0.3839353404629162,-0.06289066120477615,0.16586796537131399,-0.35083057832331455,0.0844402558634525,0.11332707638684125,-0.12238887708387214,0.18070508210338954,-0.17608486902328035,0.11498321440578874,0.11840767861844581,0.04938226058925865,0.05101692327208518,0.09285008324319888,0.15561671153948708,0.46112534243888126,-0.25480886141749126,0.3122328026014669,-0.07141033088904436,-0.1242191473749914,0.1083545763288809,0.3154723382634801,0.16189869712605143,0.24540663153677666,0.035341084418226476,-0.05057914019853449,0.11085277760982049,0.07424842071716542,-0.1589552982416511,-0.09240564881923596,-0.21944432243797385,-0.17404206519214416,0.20046211500604105,0.08310695509557853,0.01028584907697061,0.1942584821127209,-0.20811644250778993,0.05678347929884797,0.3049505350916979,-0.07090774582065773,0.2823316161044165,-0.2108855723602021,-0.02411933876112471,-0.0847802484650737,-0.09088414625739372,0.009969041662464484,-0.2895318588759621,0.36309215259354133,0.27723648429521397,-0.2038335159622111,0.1413085430590506,0.18560101770592397,0.05742578728174941,0.13383495810361623,0.1829199592635118,-0.13245845407373924,0.10147995238636742,-0.4305681512270849,-0.12272864780449311,0.1392872007719781,0.34752308996017733,0.010924439988554191,0.0362325868505704,-0.24701188380974726,0.05686444208043273,0.01922945963472067,-0.0730389323838625,0.3074709719823101,0.18397378280412013,0.012192588410795402,0.12418519541632245,-0.38987388082731145,-0.037093219030527536,-0.014735475290193811,0.16967121123301254,-0.40615094714351496,-0.1013131943600869,-0.11559850260353333,-0.1371976359426199,0.2865560699221348,-0.022613960311683723,-0.051890361622724424,0.01078181776697873,0.2805306880149008,0.45676425849633295,-0.037039813268808786,-0.04340819287040709,-0.009149403847400706,-0.13251389758066878,-0.017536174332913212,0.02355028833678041,-0.01860257489097661,-0.115973905898902,0.13410940656799397,0.17862450746069491,0.07672785911533664,0.3329447789226787,0.21013911720052958,-0.06920023753565152,-0.38321774895820404,0.2587975911933098,-0.18374559352291842,-0.034943296833211956,-0.07399747799888168,0.37347348124157165,0.04397539772571024,0.6239161207095059,-0.12289095108221115,0.013669958799163329,-0.021223608359945967,-0.12996543893014056,0.1794353521163341,0.336224507557942,0.045330645377547274,0.3746324830084822,0.5425447961367649,-0.27989773584852884,0.06085703032014145,-0.1511675978436937,-0.17599852805225158,0.2106683255307673,-0.05995694296149612,0.2734447735060268,0.018063570936786455,-0.050133493320544176,0.16146150035826645,-0.08379469357629254,0.13005485179201193,0.14458677965467004,-0.05663555286766231,-0.08457293925949294,0.07822493398235197,-0.0749527108740553,0.2831539825711147,0.14795179391421787,-0.35970193231004854,-0.1547823911383177,-0.12722854860542832,-0.1482438492983884,-0.3270897536649926,0.10865158097451344,-0.08986006376960942,0.21280493579305793,0.03898020864638596,-0.30121818365673647,0.28249574817253453,-0.3942312167243087,-0.12587946621963475,-0.058164594968446615,-0.3990014859160651,-0.0782955524932265,-0.2190799175759781,0.0037693298883683113,0.27240188645057817,0.06450065738515987,-0.020656237808390543,0.052812998892513896,0.02973123807839162,0.021321321988292397,-0.19233109830404116,-0.2261398550210978,-0.029657457598375014,-0.17660003726652507,-0.08724082165849767,0.0031911309936729637,0.28038685003497843,0.06151040334127389,0.07073290621673234,-0.10389330003593855,-0.27902198089207975,-0.041936411956348785,-0.047327814608511876,0.7994899927182115,0.18977683516923438,0.4915013656013505,0.06405989603258888,-0.2551454921016525,-0.18370197027876767,-0.2277694581622871,0.15095955147105933,-0.024463850066932746,-0.04147670299823458,-0.0034695940451809903,-0.005603800540340931,0.24274726817602943,0.20944684258089508,-0.1468888661640011,0.2919023072989191,0.09373556956771889,0.05568560748309004,-0.17904760238290596,0.0759414154943201,0.05682758673598176,0.3854421760778264,-0.0020773029695373424,-0.03784536193831789,-0.08886467854158653,-0.14546053670254722,0.3908558392852042,0.062558526448941,-0.022578758739858706,-0.027207074704246992,-0.13044634225911578,0.37662155555371024,-0.033615704691159376,-0.07495567884350862,-0.1833040534263275,-0.13036515618027122,-0.13024800670107917,0.5635078546586199,-0.11033705636614943,0.09303003639457774,-0.01125789307190228,-0.07009399461625465,0.1273509540906952,-0.49540140420362877,-0.01691398385950027,-0.04607873735497048,0.13335975199793104,0.16424569091919894,-0.08265889812290705,0.10373062377308617,-0.17423330519788216,0.047737780153077836,-0.012378569772334203,0.02928696980408363,0.051840966345516826,0.2051908390887247,0.2241226420375737,-0.08755390835425558,0.01173469265684135,-0.10886974182379738,-0.14527273625867831,-0.02833861675539051,0.28648664080266784,0.10305884806279586,-0.19832926112279603,0.005469196051558711,-0.6297373642777613,-0.060254401875538655,0.10664431686465203,0.15132695450145484,-0.03618905552287632,-0.1877483102036468,-0.08209021046504672,0.04281509094944669,-0.12118901558046336,-0.009184719045714829,0.3586431923805904,-0.11148204076243795,0.010797539996635575,-0.10809838635564883,-0.11799736180127951,0.24520130756510206,-0.19539093470578406,-0.06517328519146393,0.02498799521460171,0.028466291869977844,0.17594375592597178,-0.09144101577475938,0.03314281217455406,0.17630368719279588,0.09193839677446514,-0.11112852475257773,0.11527751465591685,0.19663093975636947,0.3797004736495806,-0.14212047685833618,0.09179894572069536,0.04791527129038542,0.02149564180970609,-0.4269324142195705,-0.10043005673258909,-0.06991487786224493,-0.09237776237204942,0.016775840450672597,0.3125742788019581,-0.1957530326353094,-0.13161531705333163,-0.19591834737273928,0.21354865650955723,-0.1122421490445289,0.004284473658832333,0.06421803145629479,-0.1986884270998548,-0.4024989449452785,0.09904626126058735,0.2011591162026436,0.20694841414443488,-0.008003325737659495,-0.05704832495540613,-0.14453223328275833,-0.07945388983401891,0.15001724710393027,-0.07549267895312362,-0.2658000024853444,-0.07687668623236465,0.04204876291876758,0.049931021376409035,0.10114025174905716,0.1494647137795,-0.07379348036205613,0.5032559194703592,-0.07130055848582284,-0.023897465482684677,-0.29180121616071286,0.04450745606680018,0.023371838553696733,0.09370279851088847,-0.16539153981381283,0.07726416723097218,0.18268232913224125,0.1479121067583007,-0.2554495216264656,0.14923974219206926,0.06417416588672875,0.05549119638571387,-0.034318582614689674,0.0814805215958021,0.08531262829292752,-0.06977144865905593,0.04537455813415914,-0.14975996973374972,-0.1832873641257904,-0.17174418321345808,0.31115821685656275,0.10571058110875464,-0.04824203578903141,-0.05554052697612555,0.1875361773628379,0.11568417064564374,0.14883259478936006,-0.22044680241885706,-0.007055853183134619,0.1307991110270108,-0.15712247943757074,-0.2192888885203499,-0.09234545086003454,0.266882283232325,0.0031714471806374434,-0.11769769836478217,-0.03001523619539892,0.16020859495982354,-0.015212076327742352,0.1793868491857218,-0.04871867608164404,-0.4585223151881981,-0.07430269819472368,0.019505151725207615,0.015126534819508652,0.34968413346159943,0.05053475232076021,0.09393222367410736,0.0919319594728294,-0.14371270941071135,-0.059229345621832685,0.11052097253476845,-0.028643982985282257,0.220483352942896,0.20302875360527262,0.12530165543008698,0.004489059158014008,-0.05739857104933277,-0.07722022330280032,-0.02089901175705622,0.45938686286645014,0.667260041785847,0.36437892753102474,-0.1050401902210325,0.2601106056492255,-0.4807488213147484,0.1348892679617868,0.336562784263152,-0.25420740763985084,0.11362383097144502,-0.3666388003962764,-0.0756588777063878,-0.04014179286175956,-0.18110079500396026,-0.2876326810995695,0.06245569435862519,0.0701912220148162,-0.06690569190584394,0.2840291804177477,0.10681334575167245,-0.41193568095112454,0.12337650809443801,0.29818007375173217,-0.18378897534823047,0.31605620296064707,-0.13647215907669974,-0.20274503836112334,0.3593932681287386,0.1450567598698358,-0.0769809746473995,0.30784780904629816,-0.3327206105772098,-0.11635730222586949,-0.12910310631226807,-0.006278127684539392,0.2116387465139029,-0.14465904968563503,0.18735399657841656,0.15452381134231796,0.35137125638113886,-0.19563484277914966,-0.13273767378222967,0.2801579806208707,-0.01052375706872688,-0.02044630121175839,0.2289125736085058,-0.20509585444012846,0.01999816619370165,-0.06873639314809488,-0.230241281642539,0.4209773803146266,0.07189104691794146,-0.1597922639604259,-0.31103832287600763,-0.08053502950022562,0.4442683640201688,-0.12984438810938936,0.350960149696951,0.22909839737595927,0.10134722632711579,-0.13113389034342537,0.06683024866815268,0.23308515455346512,-0.10967696336629906,-0.12203338295007704,0.0023130256061092425,-0.17195243428652018,0.08064802231407908,-0.3809767988521262,-0.06989837962981937,0.4777580041503069,0.26720987036001054,-0.025610313335448165,0.007015578955611446,-0.021313936965858815,-0.2536987681636642,0.26513657905090326,-0.11869818065012083,0.14717607373703778,-0.3451030329249152,-0.1260896112629486,0.2567036173624304,0.04958067048761183,-0.06933385038382722,-0.3532030142931415,-0.2415261359320242,0.15786768203690293,-0.016987318977618404,0.06866738603611733,0.09391367796599948,0.07814692423493597,-0.020152539080853238,-0.20930314505842373,-0.10139021340770071,0.30439772155718936,0.05880343753558748,0.04629083410632706,-0.5441602079877224,0.15206501900397518,0.16484846274573783,-0.001957636491038084,0.4675648594348578,0.005664364963883006,-0.10627550206056569,-0.05645477772335816,-0.09474312322244582],\"type\":\"histogram\"},{\"line\":{\"color\":\"#3D5A80\",\"width\":2},\"mode\":\"lines\",\"name\":\"M\\u00e9dia: 0.01\",\"x\":[0.005264998823146016,0.005264998823146016],\"y\":[0,102],\"type\":\"scatter\"},{\"line\":{\"color\":\"black\",\"dash\":\"dash\"},\"mode\":\"lines\",\"name\":\"Mediana: -0.02\",\"x\":[-0.015212076327742352,-0.015212076327742352],\"y\":[0,102],\"type\":\"scatter\"}],                        {\"template\":{\"data\":{\"barpolar\":[{\"marker\":{\"line\":{\"color\":\"white\",\"width\":0.5},\"pattern\":{\"fillmode\":\"overlay\",\"size\":10,\"solidity\":0.2}},\"type\":\"barpolar\"}],\"bar\":[{\"error_x\":{\"color\":\"#2a3f5f\"},\"error_y\":{\"color\":\"#2a3f5f\"},\"marker\":{\"line\":{\"color\":\"white\",\"width\":0.5},\"pattern\":{\"fillmode\":\"overlay\",\"size\":10,\"solidity\":0.2}},\"type\":\"bar\"}],\"carpet\":[{\"aaxis\":{\"endlinecolor\":\"#2a3f5f\",\"gridcolor\":\"#C8D4E3\",\"linecolor\":\"#C8D4E3\",\"minorgridcolor\":\"#C8D4E3\",\"startlinecolor\":\"#2a3f5f\"},\"baxis\":{\"endlinecolor\":\"#2a3f5f\",\"gridcolor\":\"#C8D4E3\",\"linecolor\":\"#C8D4E3\",\"minorgridcolor\":\"#C8D4E3\",\"startlinecolor\":\"#2a3f5f\"},\"type\":\"carpet\"}],\"choropleth\":[{\"colorbar\":{\"outlinewidth\":0,\"ticks\":\"\"},\"type\":\"choropleth\"}],\"contourcarpet\":[{\"colorbar\":{\"outlinewidth\":0,\"ticks\":\"\"},\"type\":\"contourcarpet\"}],\"contour\":[{\"colorbar\":{\"outlinewidth\":0,\"ticks\":\"\"},\"colorscale\":[[0.0,\"#0d0887\"],[0.1111111111111111,\"#46039f\"],[0.2222222222222222,\"#7201a8\"],[0.3333333333333333,\"#9c179e\"],[0.4444444444444444,\"#bd3786\"],[0.5555555555555556,\"#d8576b\"],[0.6666666666666666,\"#ed7953\"],[0.7777777777777778,\"#fb9f3a\"],[0.8888888888888888,\"#fdca26\"],[1.0,\"#f0f921\"]],\"type\":\"contour\"}],\"heatmapgl\":[{\"colorbar\":{\"outlinewidth\":0,\"ticks\":\"\"},\"colorscale\":[[0.0,\"#0d0887\"],[0.1111111111111111,\"#46039f\"],[0.2222222222222222,\"#7201a8\"],[0.3333333333333333,\"#9c179e\"],[0.4444444444444444,\"#bd3786\"],[0.5555555555555556,\"#d8576b\"],[0.6666666666666666,\"#ed7953\"],[0.7777777777777778,\"#fb9f3a\"],[0.8888888888888888,\"#fdca26\"],[1.0,\"#f0f921\"]],\"type\":\"heatmapgl\"}],\"heatmap\":[{\"colorbar\":{\"outlinewidth\":0,\"ticks\":\"\"},\"colorscale\":[[0.0,\"#0d0887\"],[0.1111111111111111,\"#46039f\"],[0.2222222222222222,\"#7201a8\"],[0.3333333333333333,\"#9c179e\"],[0.4444444444444444,\"#bd3786\"],[0.5555555555555556,\"#d8576b\"],[0.6666666666666666,\"#ed7953\"],[0.7777777777777778,\"#fb9f3a\"],[0.8888888888888888,\"#fdca26\"],[1.0,\"#f0f921\"]],\"type\":\"heatmap\"}],\"histogram2dcontour\":[{\"colorbar\":{\"outlinewidth\":0,\"ticks\":\"\"},\"colorscale\":[[0.0,\"#0d0887\"],[0.1111111111111111,\"#46039f\"],[0.2222222222222222,\"#7201a8\"],[0.3333333333333333,\"#9c179e\"],[0.4444444444444444,\"#bd3786\"],[0.5555555555555556,\"#d8576b\"],[0.6666666666666666,\"#ed7953\"],[0.7777777777777778,\"#fb9f3a\"],[0.8888888888888888,\"#fdca26\"],[1.0,\"#f0f921\"]],\"type\":\"histogram2dcontour\"}],\"histogram2d\":[{\"colorbar\":{\"outlinewidth\":0,\"ticks\":\"\"},\"colorscale\":[[0.0,\"#0d0887\"],[0.1111111111111111,\"#46039f\"],[0.2222222222222222,\"#7201a8\"],[0.3333333333333333,\"#9c179e\"],[0.4444444444444444,\"#bd3786\"],[0.5555555555555556,\"#d8576b\"],[0.6666666666666666,\"#ed7953\"],[0.7777777777777778,\"#fb9f3a\"],[0.8888888888888888,\"#fdca26\"],[1.0,\"#f0f921\"]],\"type\":\"histogram2d\"}],\"histogram\":[{\"marker\":{\"pattern\":{\"fillmode\":\"overlay\",\"size\":10,\"solidity\":0.2}},\"type\":\"histogram\"}],\"mesh3d\":[{\"colorbar\":{\"outlinewidth\":0,\"ticks\":\"\"},\"type\":\"mesh3d\"}],\"parcoords\":[{\"line\":{\"colorbar\":{\"outlinewidth\":0,\"ticks\":\"\"}},\"type\":\"parcoords\"}],\"pie\":[{\"automargin\":true,\"type\":\"pie\"}],\"scatter3d\":[{\"line\":{\"colorbar\":{\"outlinewidth\":0,\"ticks\":\"\"}},\"marker\":{\"colorbar\":{\"outlinewidth\":0,\"ticks\":\"\"}},\"type\":\"scatter3d\"}],\"scattercarpet\":[{\"marker\":{\"colorbar\":{\"outlinewidth\":0,\"ticks\":\"\"}},\"type\":\"scattercarpet\"}],\"scattergeo\":[{\"marker\":{\"colorbar\":{\"outlinewidth\":0,\"ticks\":\"\"}},\"type\":\"scattergeo\"}],\"scattergl\":[{\"marker\":{\"colorbar\":{\"outlinewidth\":0,\"ticks\":\"\"}},\"type\":\"scattergl\"}],\"scattermapbox\":[{\"marker\":{\"colorbar\":{\"outlinewidth\":0,\"ticks\":\"\"}},\"type\":\"scattermapbox\"}],\"scatterpolargl\":[{\"marker\":{\"colorbar\":{\"outlinewidth\":0,\"ticks\":\"\"}},\"type\":\"scatterpolargl\"}],\"scatterpolar\":[{\"marker\":{\"colorbar\":{\"outlinewidth\":0,\"ticks\":\"\"}},\"type\":\"scatterpolar\"}],\"scatter\":[{\"fillpattern\":{\"fillmode\":\"overlay\",\"size\":10,\"solidity\":0.2},\"type\":\"scatter\"}],\"scatterternary\":[{\"marker\":{\"colorbar\":{\"outlinewidth\":0,\"ticks\":\"\"}},\"type\":\"scatterternary\"}],\"surface\":[{\"colorbar\":{\"outlinewidth\":0,\"ticks\":\"\"},\"colorscale\":[[0.0,\"#0d0887\"],[0.1111111111111111,\"#46039f\"],[0.2222222222222222,\"#7201a8\"],[0.3333333333333333,\"#9c179e\"],[0.4444444444444444,\"#bd3786\"],[0.5555555555555556,\"#d8576b\"],[0.6666666666666666,\"#ed7953\"],[0.7777777777777778,\"#fb9f3a\"],[0.8888888888888888,\"#fdca26\"],[1.0,\"#f0f921\"]],\"type\":\"surface\"}],\"table\":[{\"cells\":{\"fill\":{\"color\":\"#EBF0F8\"},\"line\":{\"color\":\"white\"}},\"header\":{\"fill\":{\"color\":\"#C8D4E3\"},\"line\":{\"color\":\"white\"}},\"type\":\"table\"}]},\"layout\":{\"annotationdefaults\":{\"arrowcolor\":\"#2a3f5f\",\"arrowhead\":0,\"arrowwidth\":1},\"autotypenumbers\":\"strict\",\"coloraxis\":{\"colorbar\":{\"outlinewidth\":0,\"ticks\":\"\"}},\"colorscale\":{\"diverging\":[[0,\"#8e0152\"],[0.1,\"#c51b7d\"],[0.2,\"#de77ae\"],[0.3,\"#f1b6da\"],[0.4,\"#fde0ef\"],[0.5,\"#f7f7f7\"],[0.6,\"#e6f5d0\"],[0.7,\"#b8e186\"],[0.8,\"#7fbc41\"],[0.9,\"#4d9221\"],[1,\"#276419\"]],\"sequential\":[[0.0,\"#0d0887\"],[0.1111111111111111,\"#46039f\"],[0.2222222222222222,\"#7201a8\"],[0.3333333333333333,\"#9c179e\"],[0.4444444444444444,\"#bd3786\"],[0.5555555555555556,\"#d8576b\"],[0.6666666666666666,\"#ed7953\"],[0.7777777777777778,\"#fb9f3a\"],[0.8888888888888888,\"#fdca26\"],[1.0,\"#f0f921\"]],\"sequentialminus\":[[0.0,\"#0d0887\"],[0.1111111111111111,\"#46039f\"],[0.2222222222222222,\"#7201a8\"],[0.3333333333333333,\"#9c179e\"],[0.4444444444444444,\"#bd3786\"],[0.5555555555555556,\"#d8576b\"],[0.6666666666666666,\"#ed7953\"],[0.7777777777777778,\"#fb9f3a\"],[0.8888888888888888,\"#fdca26\"],[1.0,\"#f0f921\"]]},\"colorway\":[\"#636efa\",\"#EF553B\",\"#00cc96\",\"#ab63fa\",\"#FFA15A\",\"#19d3f3\",\"#FF6692\",\"#B6E880\",\"#FF97FF\",\"#FECB52\"],\"font\":{\"color\":\"#2a3f5f\"},\"geo\":{\"bgcolor\":\"white\",\"lakecolor\":\"white\",\"landcolor\":\"white\",\"showlakes\":true,\"showland\":true,\"subunitcolor\":\"#C8D4E3\"},\"hoverlabel\":{\"align\":\"left\"},\"hovermode\":\"closest\",\"mapbox\":{\"style\":\"light\"},\"paper_bgcolor\":\"white\",\"plot_bgcolor\":\"white\",\"polar\":{\"angularaxis\":{\"gridcolor\":\"#EBF0F8\",\"linecolor\":\"#EBF0F8\",\"ticks\":\"\"},\"bgcolor\":\"white\",\"radialaxis\":{\"gridcolor\":\"#EBF0F8\",\"linecolor\":\"#EBF0F8\",\"ticks\":\"\"}},\"scene\":{\"xaxis\":{\"backgroundcolor\":\"white\",\"gridcolor\":\"#DFE8F3\",\"gridwidth\":2,\"linecolor\":\"#EBF0F8\",\"showbackground\":true,\"ticks\":\"\",\"zerolinecolor\":\"#EBF0F8\"},\"yaxis\":{\"backgroundcolor\":\"white\",\"gridcolor\":\"#DFE8F3\",\"gridwidth\":2,\"linecolor\":\"#EBF0F8\",\"showbackground\":true,\"ticks\":\"\",\"zerolinecolor\":\"#EBF0F8\"},\"zaxis\":{\"backgroundcolor\":\"white\",\"gridcolor\":\"#DFE8F3\",\"gridwidth\":2,\"linecolor\":\"#EBF0F8\",\"showbackground\":true,\"ticks\":\"\",\"zerolinecolor\":\"#EBF0F8\"}},\"shapedefaults\":{\"line\":{\"color\":\"#2a3f5f\"}},\"ternary\":{\"aaxis\":{\"gridcolor\":\"#DFE8F3\",\"linecolor\":\"#A2B1C6\",\"ticks\":\"\"},\"baxis\":{\"gridcolor\":\"#DFE8F3\",\"linecolor\":\"#A2B1C6\",\"ticks\":\"\"},\"bgcolor\":\"white\",\"caxis\":{\"gridcolor\":\"#DFE8F3\",\"linecolor\":\"#A2B1C6\",\"ticks\":\"\"}},\"title\":{\"x\":0.05},\"xaxis\":{\"automargin\":true,\"gridcolor\":\"#EBF0F8\",\"linecolor\":\"#EBF0F8\",\"ticks\":\"\",\"title\":{\"standoff\":15},\"zerolinecolor\":\"#EBF0F8\",\"zerolinewidth\":2},\"yaxis\":{\"automargin\":true,\"gridcolor\":\"#EBF0F8\",\"linecolor\":\"#EBF0F8\",\"ticks\":\"\",\"title\":{\"standoff\":15},\"zerolinecolor\":\"#EBF0F8\",\"zerolinewidth\":2}}},\"annotations\":[{\"arrowhead\":2,\"ax\":2.005264998823146,\"ay\":102,\"font\":{\"color\":\"#3D5A80\",\"size\":10},\"showarrow\":true,\"text\":\"M\\u00e9dia: 0.01\",\"x\":0.005264998823146016,\"y\":102},{\"arrowhead\":2,\"ax\":-2.0152120763277424,\"ay\":102,\"font\":{\"color\":\"black\",\"size\":10},\"showarrow\":true,\"text\":\"Mediana: -0.02\",\"x\":-0.015212076327742352,\"y\":102}],\"title\":{\"font\":{\"size\":12,\"color\":\"#100C07\",\"family\":\"sans-serif\"},\"text\":\"Distribui\\u00e7\\u00e3o dos Res\\u00edduos\",\"y\":0.98,\"x\":0.12,\"xanchor\":\"left\",\"yanchor\":\"top\"},\"xaxis\":{\"title\":{\"text\":\"Res\\u00edduos\",\"font\":{\"size\":10,\"color\":\"#100C07\"}}},\"legend\":{\"font\":{\"size\":10}},\"yaxis\":{\"title\":{\"text\":\"Frequ\\u00eancia\"}},\"bargap\":0.1,\"showlegend\":true},                        {\"responsive\": true}                    ).then(function(){\n",
              "                            \n",
              "var gd = document.getElementById('a8958ca7-2fd3-41e7-a7da-85a3a6fa7ab2');\n",
              "var x = new MutationObserver(function (mutations, observer) {{\n",
              "        var display = window.getComputedStyle(gd).display;\n",
              "        if (!display || display === 'none') {{\n",
              "            console.log([gd, 'removed!']);\n",
              "            Plotly.purge(gd);\n",
              "            observer.disconnect();\n",
              "        }}\n",
              "}});\n",
              "\n",
              "// Listen for the removal of the full notebook cells\n",
              "var notebookContainer = gd.closest('#notebook-container');\n",
              "if (notebookContainer) {{\n",
              "    x.observe(notebookContainer, {childList: true});\n",
              "}}\n",
              "\n",
              "// Listen for the clearing of the current output cell\n",
              "var outputEl = gd.closest('.output');\n",
              "if (outputEl) {{\n",
              "    x.observe(outputEl, {childList: true});\n",
              "}}\n",
              "\n",
              "                        })                };                            </script>        </div>\n",
              "</body>\n",
              "</html>"
            ]
          },
          "metadata": {},
          "output_type": "display_data"
        }
      ],
      "source": [
        "# Compute Residuals\n",
        "df_pred['Residuals'] = abs(df_pred['Actual']) - abs(df_pred['Predicted'])\n",
        "\n",
        "# Normality test p-value\n",
        "p_value_thresh = 0.05\n",
        "p_value = normaltest(df_pred['Residuals'])[1]\n",
        "\n",
        "# Calculate mean and median of residuals\n",
        "resd_mean = df_pred['Residuals'].mean()\n",
        "resd_median = df_pred['Residuals'].median()\n",
        "\n",
        "# Creating the histogram with Plotly\n",
        "fig = go.Figure()\n",
        "\n",
        "# Add histogram\n",
        "fig.add_trace(go.Histogram(\n",
        "    x=df_pred['Residuals'],\n",
        "    nbinsx=50,\n",
        "    marker_color='#EE6C4D',\n",
        "    opacity=0.7,\n",
        "    name='Resíduos'\n",
        "))\n",
        "\n",
        "# Add mean line\n",
        "fig.add_trace(go.Scatter(\n",
        "    x=[resd_mean, resd_mean],\n",
        "    y=[0, max(np.histogram(df_pred['Residuals'], bins=50)[0])],\n",
        "    mode=\"lines\",\n",
        "    line=dict(color='#3D5A80', width=2),\n",
        "    name=f\"Média: {resd_mean:.2f}\"\n",
        "))\n",
        "\n",
        "# Add median line\n",
        "fig.add_trace(go.Scatter(\n",
        "    x=[resd_median, resd_median],\n",
        "    y=[0, max(np.histogram(df_pred['Residuals'], bins=50)[0])],\n",
        "    mode=\"lines\",\n",
        "    line=dict(color='black', dash='dash'),\n",
        "    name=f\"Mediana: {resd_median:.2f}\"\n",
        "))\n",
        "\n",
        "# Add annotations for mean and median\n",
        "fig.add_annotation(\n",
        "    x=resd_mean, y=max(np.histogram(df_pred['Residuals'], bins=50)[0]),\n",
        "    text=f\"Média: {resd_mean:.2f}\",\n",
        "    showarrow=True,\n",
        "    arrowhead=2,\n",
        "    ax=resd_mean + 2,\n",
        "    ay=max(np.histogram(df_pred['Residuals'], bins=50)[0]),\n",
        "    font=dict(size=10, color='#3D5A80')\n",
        ")\n",
        "\n",
        "fig.add_annotation(\n",
        "    x=resd_median, y=max(np.histogram(df_pred['Residuals'], bins=50)[0]),\n",
        "    text=f\"Mediana: {resd_median:.2f}\",\n",
        "    showarrow=True,\n",
        "    arrowhead=2,\n",
        "    ax=resd_median - 2,\n",
        "    ay=max(np.histogram(df_pred['Residuals'], bins=50)[0]),\n",
        "    font=dict(size=10, color='black')\n",
        ")\n",
        "\n",
        "# Update layout\n",
        "fig.update_layout(\n",
        "    title={\n",
        "        'text': 'Distribuição dos Resíduos',\n",
        "        'y': 0.98,\n",
        "        'x': 0.12,\n",
        "        'xanchor': 'left',\n",
        "        'yanchor': 'top',\n",
        "        'font': dict(size=12, color='#100C07', family='sans-serif')\n",
        "    },\n",
        "    xaxis_title='Resíduos',\n",
        "    xaxis=dict(titlefont=dict(size=10, color='#100C07')),\n",
        "    yaxis_title='Frequência',\n",
        "    bargap=0.1,\n",
        "    showlegend=True,\n",
        "    legend=dict(font=dict(size=10)),\n",
        "    template=\"plotly_white\"\n",
        ")\n",
        "\n",
        "fig.show()"
      ]
    },
    {
      "cell_type": "code",
      "execution_count": null,
      "metadata": {
        "colab": {
          "background_save": true
        },
        "id": "YVDoIcW2kRoc",
        "outputId": "0ac4f464-4aa6-4b43-e80d-0e5e5c31565d"
      },
      "outputs": [
        {
          "name": "stdout",
          "output_type": "stream",
          "text": [
            "-0.0061136064966023085\n",
            "0.03984578\n",
            "Epoch [2000/2000], Loss: 0.0398\n"
          ]
        }
      ],
      "source": [
        "evaluate_model(model, test_loader, criterion, device)"
      ]
    },
    {
      "cell_type": "markdown",
      "metadata": {
        "id": "Uu4mgfkq5MVr"
      },
      "source": [
        "11 Camadas"
      ]
    },
    {
      "cell_type": "markdown",
      "metadata": {
        "id": "8VXokaLU40F9"
      },
      "source": [
        "![image.png](data:image/png;base64,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)"
      ]
    },
    {
      "cell_type": "markdown",
      "metadata": {
        "id": "7ejLpuq846rw"
      },
      "source": [
        "16 Camadas"
      ]
    },
    {
      "cell_type": "markdown",
      "metadata": {
        "id": "QNHiDNZ25Qn1"
      },
      "source": []
    }
  ],
  "metadata": {
    "colab": {
      "provenance": []
    },
    "kernelspec": {
      "display_name": "Python 3",
      "name": "python3"
    },
    "language_info": {
      "name": "python"
    }
  },
  "nbformat": 4,
  "nbformat_minor": 0
}